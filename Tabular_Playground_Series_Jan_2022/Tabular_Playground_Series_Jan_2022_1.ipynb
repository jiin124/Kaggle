{
  "nbformat": 4,
  "nbformat_minor": 0,
  "metadata": {
    "colab": {
      "name": "Tabular Playground Series - Jan 2022.ipynb",
      "provenance": [],
      "collapsed_sections": [],
      "authorship_tag": "ABX9TyP8Q/rH6Le2OOU5XLBk+MuI",
      "include_colab_link": true
    },
    "kernelspec": {
      "name": "python3",
      "display_name": "Python 3"
    },
    "language_info": {
      "name": "python"
    }
  },
  "cells": [
    {
      "cell_type": "markdown",
      "metadata": {
        "id": "view-in-github",
        "colab_type": "text"
      },
      "source": [
        "<a href=\"https://colab.research.google.com/github/jiin124/Kaggle/blob/main/Tabular_Playground_Series_Jan_2022/Tabular_Playground_Series_Jan_2022_1.ipynb\" target=\"_parent\"><img src=\"https://colab.research.google.com/assets/colab-badge.svg\" alt=\"Open In Colab\"/></a>"
      ]
    },
    {
      "cell_type": "code",
      "execution_count": 1,
      "metadata": {
        "id": "Ranfgt1Czckz"
      },
      "outputs": [],
      "source": [
        "import pandas as pd\n",
        "import numpy as np\n",
        "import matplotlib.pyplot as plt\n",
        "import seaborn as sns\n",
        "plt.style.use('ggplot')\n"
      ]
    },
    {
      "cell_type": "code",
      "source": [
        "import os\n",
        "import warnings\n",
        "import holidays\n",
        "import dateutil.easter as easter"
      ],
      "metadata": {
        "id": "pzZW_F5LUBTP"
      },
      "execution_count": 2,
      "outputs": []
    },
    {
      "cell_type": "code",
      "source": [
        "os.environ['KAGGLE_USERNAME']='jiinpp'\n",
        "os.environ['KAGGLE_KEY']=\"b06d525a9f66198051ccb648b091778a\""
      ],
      "metadata": {
        "id": "oniAq9CyzipT"
      },
      "execution_count": 3,
      "outputs": []
    },
    {
      "cell_type": "code",
      "source": [
        "!kaggle competitions download -c tabular-playground-series-jan-2022"
      ],
      "metadata": {
        "colab": {
          "base_uri": "https://localhost:8080/"
        },
        "id": "VlhpdaM4zksS",
        "outputId": "dd7ff3e7-dd0e-4e22-c7f2-a5055c074005"
      },
      "execution_count": 4,
      "outputs": [
        {
          "output_type": "stream",
          "name": "stdout",
          "text": [
            "Warning: Looks like you're using an outdated API Version, please consider updating (server 1.5.12 / client 1.5.4)\n",
            "Downloading sample_submission.csv to /content\n",
            "  0% 0.00/64.2k [00:00<?, ?B/s]\n",
            "100% 64.2k/64.2k [00:00<00:00, 7.39MB/s]\n",
            "Downloading train.csv.zip to /content\n",
            "  0% 0.00/186k [00:00<?, ?B/s]\n",
            "100% 186k/186k [00:00<00:00, 11.8MB/s]\n",
            "Downloading test.csv to /content\n",
            "  0% 0.00/306k [00:00<?, ?B/s]\n",
            "100% 306k/306k [00:00<00:00, 93.0MB/s]\n"
          ]
        }
      ]
    },
    {
      "cell_type": "code",
      "source": [
        "!unzip '*.zip'"
      ],
      "metadata": {
        "colab": {
          "base_uri": "https://localhost:8080/"
        },
        "id": "h2niEU_izmfy",
        "outputId": "afe6230a-dea4-4d60-a189-ed2ba86c581f"
      },
      "execution_count": 5,
      "outputs": [
        {
          "output_type": "stream",
          "name": "stdout",
          "text": [
            "Archive:  train.csv.zip\n",
            "  inflating: train.csv               \n"
          ]
        }
      ]
    },
    {
      "cell_type": "code",
      "source": [
        "train=pd.read_csv('train.csv')\n",
        "test=pd.read_csv('test.csv')\n"
      ],
      "metadata": {
        "id": "KVaYbo-Wzqd6"
      },
      "execution_count": 6,
      "outputs": []
    },
    {
      "cell_type": "code",
      "source": [
        "sample=pd.read_csv('sample_submission.csv',index_col=0)"
      ],
      "metadata": {
        "id": "DKUQL6gwF-59"
      },
      "execution_count": 7,
      "outputs": []
    },
    {
      "cell_type": "code",
      "source": [
        "train.head()"
      ],
      "metadata": {
        "colab": {
          "base_uri": "https://localhost:8080/",
          "height": 206
        },
        "id": "0BZKECwFz73W",
        "outputId": "c96f3d01-0c03-449e-84ee-f5d5ef92046c"
      },
      "execution_count": null,
      "outputs": [
        {
          "output_type": "execute_result",
          "data": {
            "text/html": [
              "\n",
              "  <div id=\"df-e28a95a4-cfee-4d62-8515-63ece5f0783e\">\n",
              "    <div class=\"colab-df-container\">\n",
              "      <div>\n",
              "<style scoped>\n",
              "    .dataframe tbody tr th:only-of-type {\n",
              "        vertical-align: middle;\n",
              "    }\n",
              "\n",
              "    .dataframe tbody tr th {\n",
              "        vertical-align: top;\n",
              "    }\n",
              "\n",
              "    .dataframe thead th {\n",
              "        text-align: right;\n",
              "    }\n",
              "</style>\n",
              "<table border=\"1\" class=\"dataframe\">\n",
              "  <thead>\n",
              "    <tr style=\"text-align: right;\">\n",
              "      <th></th>\n",
              "      <th>row_id</th>\n",
              "      <th>date</th>\n",
              "      <th>country</th>\n",
              "      <th>store</th>\n",
              "      <th>product</th>\n",
              "      <th>num_sold</th>\n",
              "    </tr>\n",
              "  </thead>\n",
              "  <tbody>\n",
              "    <tr>\n",
              "      <th>0</th>\n",
              "      <td>0</td>\n",
              "      <td>2015-01-01</td>\n",
              "      <td>Finland</td>\n",
              "      <td>KaggleMart</td>\n",
              "      <td>Kaggle Mug</td>\n",
              "      <td>329</td>\n",
              "    </tr>\n",
              "    <tr>\n",
              "      <th>1</th>\n",
              "      <td>1</td>\n",
              "      <td>2015-01-01</td>\n",
              "      <td>Finland</td>\n",
              "      <td>KaggleMart</td>\n",
              "      <td>Kaggle Hat</td>\n",
              "      <td>520</td>\n",
              "    </tr>\n",
              "    <tr>\n",
              "      <th>2</th>\n",
              "      <td>2</td>\n",
              "      <td>2015-01-01</td>\n",
              "      <td>Finland</td>\n",
              "      <td>KaggleMart</td>\n",
              "      <td>Kaggle Sticker</td>\n",
              "      <td>146</td>\n",
              "    </tr>\n",
              "    <tr>\n",
              "      <th>3</th>\n",
              "      <td>3</td>\n",
              "      <td>2015-01-01</td>\n",
              "      <td>Finland</td>\n",
              "      <td>KaggleRama</td>\n",
              "      <td>Kaggle Mug</td>\n",
              "      <td>572</td>\n",
              "    </tr>\n",
              "    <tr>\n",
              "      <th>4</th>\n",
              "      <td>4</td>\n",
              "      <td>2015-01-01</td>\n",
              "      <td>Finland</td>\n",
              "      <td>KaggleRama</td>\n",
              "      <td>Kaggle Hat</td>\n",
              "      <td>911</td>\n",
              "    </tr>\n",
              "  </tbody>\n",
              "</table>\n",
              "</div>\n",
              "      <button class=\"colab-df-convert\" onclick=\"convertToInteractive('df-e28a95a4-cfee-4d62-8515-63ece5f0783e')\"\n",
              "              title=\"Convert this dataframe to an interactive table.\"\n",
              "              style=\"display:none;\">\n",
              "        \n",
              "  <svg xmlns=\"http://www.w3.org/2000/svg\" height=\"24px\"viewBox=\"0 0 24 24\"\n",
              "       width=\"24px\">\n",
              "    <path d=\"M0 0h24v24H0V0z\" fill=\"none\"/>\n",
              "    <path d=\"M18.56 5.44l.94 2.06.94-2.06 2.06-.94-2.06-.94-.94-2.06-.94 2.06-2.06.94zm-11 1L8.5 8.5l.94-2.06 2.06-.94-2.06-.94L8.5 2.5l-.94 2.06-2.06.94zm10 10l.94 2.06.94-2.06 2.06-.94-2.06-.94-.94-2.06-.94 2.06-2.06.94z\"/><path d=\"M17.41 7.96l-1.37-1.37c-.4-.4-.92-.59-1.43-.59-.52 0-1.04.2-1.43.59L10.3 9.45l-7.72 7.72c-.78.78-.78 2.05 0 2.83L4 21.41c.39.39.9.59 1.41.59.51 0 1.02-.2 1.41-.59l7.78-7.78 2.81-2.81c.8-.78.8-2.07 0-2.86zM5.41 20L4 18.59l7.72-7.72 1.47 1.35L5.41 20z\"/>\n",
              "  </svg>\n",
              "      </button>\n",
              "      \n",
              "  <style>\n",
              "    .colab-df-container {\n",
              "      display:flex;\n",
              "      flex-wrap:wrap;\n",
              "      gap: 12px;\n",
              "    }\n",
              "\n",
              "    .colab-df-convert {\n",
              "      background-color: #E8F0FE;\n",
              "      border: none;\n",
              "      border-radius: 50%;\n",
              "      cursor: pointer;\n",
              "      display: none;\n",
              "      fill: #1967D2;\n",
              "      height: 32px;\n",
              "      padding: 0 0 0 0;\n",
              "      width: 32px;\n",
              "    }\n",
              "\n",
              "    .colab-df-convert:hover {\n",
              "      background-color: #E2EBFA;\n",
              "      box-shadow: 0px 1px 2px rgba(60, 64, 67, 0.3), 0px 1px 3px 1px rgba(60, 64, 67, 0.15);\n",
              "      fill: #174EA6;\n",
              "    }\n",
              "\n",
              "    [theme=dark] .colab-df-convert {\n",
              "      background-color: #3B4455;\n",
              "      fill: #D2E3FC;\n",
              "    }\n",
              "\n",
              "    [theme=dark] .colab-df-convert:hover {\n",
              "      background-color: #434B5C;\n",
              "      box-shadow: 0px 1px 3px 1px rgba(0, 0, 0, 0.15);\n",
              "      filter: drop-shadow(0px 1px 2px rgba(0, 0, 0, 0.3));\n",
              "      fill: #FFFFFF;\n",
              "    }\n",
              "  </style>\n",
              "\n",
              "      <script>\n",
              "        const buttonEl =\n",
              "          document.querySelector('#df-e28a95a4-cfee-4d62-8515-63ece5f0783e button.colab-df-convert');\n",
              "        buttonEl.style.display =\n",
              "          google.colab.kernel.accessAllowed ? 'block' : 'none';\n",
              "\n",
              "        async function convertToInteractive(key) {\n",
              "          const element = document.querySelector('#df-e28a95a4-cfee-4d62-8515-63ece5f0783e');\n",
              "          const dataTable =\n",
              "            await google.colab.kernel.invokeFunction('convertToInteractive',\n",
              "                                                     [key], {});\n",
              "          if (!dataTable) return;\n",
              "\n",
              "          const docLinkHtml = 'Like what you see? Visit the ' +\n",
              "            '<a target=\"_blank\" href=https://colab.research.google.com/notebooks/data_table.ipynb>data table notebook</a>'\n",
              "            + ' to learn more about interactive tables.';\n",
              "          element.innerHTML = '';\n",
              "          dataTable['output_type'] = 'display_data';\n",
              "          await google.colab.output.renderOutput(dataTable, element);\n",
              "          const docLink = document.createElement('div');\n",
              "          docLink.innerHTML = docLinkHtml;\n",
              "          element.appendChild(docLink);\n",
              "        }\n",
              "      </script>\n",
              "    </div>\n",
              "  </div>\n",
              "  "
            ],
            "text/plain": [
              "   row_id        date  country       store         product  num_sold\n",
              "0       0  2015-01-01  Finland  KaggleMart      Kaggle Mug       329\n",
              "1       1  2015-01-01  Finland  KaggleMart      Kaggle Hat       520\n",
              "2       2  2015-01-01  Finland  KaggleMart  Kaggle Sticker       146\n",
              "3       3  2015-01-01  Finland  KaggleRama      Kaggle Mug       572\n",
              "4       4  2015-01-01  Finland  KaggleRama      Kaggle Hat       911"
            ]
          },
          "metadata": {},
          "execution_count": 45
        }
      ]
    },
    {
      "cell_type": "code",
      "source": [
        "test.head()"
      ],
      "metadata": {
        "colab": {
          "base_uri": "https://localhost:8080/",
          "height": 206
        },
        "id": "QrMh6Vgtz_ps",
        "outputId": "ab7f5298-e07a-4075-cdce-f0f39771cd13"
      },
      "execution_count": null,
      "outputs": [
        {
          "output_type": "execute_result",
          "data": {
            "text/html": [
              "\n",
              "  <div id=\"df-e55627ec-fcdf-4b89-ac18-1c152e600a5a\">\n",
              "    <div class=\"colab-df-container\">\n",
              "      <div>\n",
              "<style scoped>\n",
              "    .dataframe tbody tr th:only-of-type {\n",
              "        vertical-align: middle;\n",
              "    }\n",
              "\n",
              "    .dataframe tbody tr th {\n",
              "        vertical-align: top;\n",
              "    }\n",
              "\n",
              "    .dataframe thead th {\n",
              "        text-align: right;\n",
              "    }\n",
              "</style>\n",
              "<table border=\"1\" class=\"dataframe\">\n",
              "  <thead>\n",
              "    <tr style=\"text-align: right;\">\n",
              "      <th></th>\n",
              "      <th>row_id</th>\n",
              "      <th>date</th>\n",
              "      <th>country</th>\n",
              "      <th>store</th>\n",
              "      <th>product</th>\n",
              "    </tr>\n",
              "  </thead>\n",
              "  <tbody>\n",
              "    <tr>\n",
              "      <th>0</th>\n",
              "      <td>26298</td>\n",
              "      <td>2019-01-01</td>\n",
              "      <td>Finland</td>\n",
              "      <td>KaggleMart</td>\n",
              "      <td>Kaggle Mug</td>\n",
              "    </tr>\n",
              "    <tr>\n",
              "      <th>1</th>\n",
              "      <td>26299</td>\n",
              "      <td>2019-01-01</td>\n",
              "      <td>Finland</td>\n",
              "      <td>KaggleMart</td>\n",
              "      <td>Kaggle Hat</td>\n",
              "    </tr>\n",
              "    <tr>\n",
              "      <th>2</th>\n",
              "      <td>26300</td>\n",
              "      <td>2019-01-01</td>\n",
              "      <td>Finland</td>\n",
              "      <td>KaggleMart</td>\n",
              "      <td>Kaggle Sticker</td>\n",
              "    </tr>\n",
              "    <tr>\n",
              "      <th>3</th>\n",
              "      <td>26301</td>\n",
              "      <td>2019-01-01</td>\n",
              "      <td>Finland</td>\n",
              "      <td>KaggleRama</td>\n",
              "      <td>Kaggle Mug</td>\n",
              "    </tr>\n",
              "    <tr>\n",
              "      <th>4</th>\n",
              "      <td>26302</td>\n",
              "      <td>2019-01-01</td>\n",
              "      <td>Finland</td>\n",
              "      <td>KaggleRama</td>\n",
              "      <td>Kaggle Hat</td>\n",
              "    </tr>\n",
              "  </tbody>\n",
              "</table>\n",
              "</div>\n",
              "      <button class=\"colab-df-convert\" onclick=\"convertToInteractive('df-e55627ec-fcdf-4b89-ac18-1c152e600a5a')\"\n",
              "              title=\"Convert this dataframe to an interactive table.\"\n",
              "              style=\"display:none;\">\n",
              "        \n",
              "  <svg xmlns=\"http://www.w3.org/2000/svg\" height=\"24px\"viewBox=\"0 0 24 24\"\n",
              "       width=\"24px\">\n",
              "    <path d=\"M0 0h24v24H0V0z\" fill=\"none\"/>\n",
              "    <path d=\"M18.56 5.44l.94 2.06.94-2.06 2.06-.94-2.06-.94-.94-2.06-.94 2.06-2.06.94zm-11 1L8.5 8.5l.94-2.06 2.06-.94-2.06-.94L8.5 2.5l-.94 2.06-2.06.94zm10 10l.94 2.06.94-2.06 2.06-.94-2.06-.94-.94-2.06-.94 2.06-2.06.94z\"/><path d=\"M17.41 7.96l-1.37-1.37c-.4-.4-.92-.59-1.43-.59-.52 0-1.04.2-1.43.59L10.3 9.45l-7.72 7.72c-.78.78-.78 2.05 0 2.83L4 21.41c.39.39.9.59 1.41.59.51 0 1.02-.2 1.41-.59l7.78-7.78 2.81-2.81c.8-.78.8-2.07 0-2.86zM5.41 20L4 18.59l7.72-7.72 1.47 1.35L5.41 20z\"/>\n",
              "  </svg>\n",
              "      </button>\n",
              "      \n",
              "  <style>\n",
              "    .colab-df-container {\n",
              "      display:flex;\n",
              "      flex-wrap:wrap;\n",
              "      gap: 12px;\n",
              "    }\n",
              "\n",
              "    .colab-df-convert {\n",
              "      background-color: #E8F0FE;\n",
              "      border: none;\n",
              "      border-radius: 50%;\n",
              "      cursor: pointer;\n",
              "      display: none;\n",
              "      fill: #1967D2;\n",
              "      height: 32px;\n",
              "      padding: 0 0 0 0;\n",
              "      width: 32px;\n",
              "    }\n",
              "\n",
              "    .colab-df-convert:hover {\n",
              "      background-color: #E2EBFA;\n",
              "      box-shadow: 0px 1px 2px rgba(60, 64, 67, 0.3), 0px 1px 3px 1px rgba(60, 64, 67, 0.15);\n",
              "      fill: #174EA6;\n",
              "    }\n",
              "\n",
              "    [theme=dark] .colab-df-convert {\n",
              "      background-color: #3B4455;\n",
              "      fill: #D2E3FC;\n",
              "    }\n",
              "\n",
              "    [theme=dark] .colab-df-convert:hover {\n",
              "      background-color: #434B5C;\n",
              "      box-shadow: 0px 1px 3px 1px rgba(0, 0, 0, 0.15);\n",
              "      filter: drop-shadow(0px 1px 2px rgba(0, 0, 0, 0.3));\n",
              "      fill: #FFFFFF;\n",
              "    }\n",
              "  </style>\n",
              "\n",
              "      <script>\n",
              "        const buttonEl =\n",
              "          document.querySelector('#df-e55627ec-fcdf-4b89-ac18-1c152e600a5a button.colab-df-convert');\n",
              "        buttonEl.style.display =\n",
              "          google.colab.kernel.accessAllowed ? 'block' : 'none';\n",
              "\n",
              "        async function convertToInteractive(key) {\n",
              "          const element = document.querySelector('#df-e55627ec-fcdf-4b89-ac18-1c152e600a5a');\n",
              "          const dataTable =\n",
              "            await google.colab.kernel.invokeFunction('convertToInteractive',\n",
              "                                                     [key], {});\n",
              "          if (!dataTable) return;\n",
              "\n",
              "          const docLinkHtml = 'Like what you see? Visit the ' +\n",
              "            '<a target=\"_blank\" href=https://colab.research.google.com/notebooks/data_table.ipynb>data table notebook</a>'\n",
              "            + ' to learn more about interactive tables.';\n",
              "          element.innerHTML = '';\n",
              "          dataTable['output_type'] = 'display_data';\n",
              "          await google.colab.output.renderOutput(dataTable, element);\n",
              "          const docLink = document.createElement('div');\n",
              "          docLink.innerHTML = docLinkHtml;\n",
              "          element.appendChild(docLink);\n",
              "        }\n",
              "      </script>\n",
              "    </div>\n",
              "  </div>\n",
              "  "
            ],
            "text/plain": [
              "   row_id        date  country       store         product\n",
              "0   26298  2019-01-01  Finland  KaggleMart      Kaggle Mug\n",
              "1   26299  2019-01-01  Finland  KaggleMart      Kaggle Hat\n",
              "2   26300  2019-01-01  Finland  KaggleMart  Kaggle Sticker\n",
              "3   26301  2019-01-01  Finland  KaggleRama      Kaggle Mug\n",
              "4   26302  2019-01-01  Finland  KaggleRama      Kaggle Hat"
            ]
          },
          "metadata": {},
          "execution_count": 8
        }
      ]
    },
    {
      "cell_type": "code",
      "source": [
        "train.info()"
      ],
      "metadata": {
        "colab": {
          "base_uri": "https://localhost:8080/"
        },
        "id": "fcavT89y0DHP",
        "outputId": "884098ff-54db-4993-849f-a5ca751ee9dd"
      },
      "execution_count": null,
      "outputs": [
        {
          "output_type": "stream",
          "name": "stdout",
          "text": [
            "<class 'pandas.core.frame.DataFrame'>\n",
            "RangeIndex: 26298 entries, 0 to 26297\n",
            "Data columns (total 6 columns):\n",
            " #   Column    Non-Null Count  Dtype \n",
            "---  ------    --------------  ----- \n",
            " 0   row_id    26298 non-null  int64 \n",
            " 1   date      26298 non-null  object\n",
            " 2   country   26298 non-null  object\n",
            " 3   store     26298 non-null  object\n",
            " 4   product   26298 non-null  object\n",
            " 5   num_sold  26298 non-null  int64 \n",
            "dtypes: int64(2), object(4)\n",
            "memory usage: 1.2+ MB\n"
          ]
        }
      ]
    },
    {
      "cell_type": "markdown",
      "source": [
        "# 전처리"
      ],
      "metadata": {
        "id": "qZoMv6Gm6GZ6"
      }
    },
    {
      "cell_type": "markdown",
      "source": [
        "## LabelEncoder"
      ],
      "metadata": {
        "id": "1RQybjBO6I-Q"
      }
    },
    {
      "cell_type": "code",
      "source": [
        "from sklearn.preprocessing import LabelEncoder\n",
        "\n",
        "for col in ['country','store','product']:\n",
        "  train[col+'_label']=LabelEncoder().fit_transform(train[col])\n",
        "  test[col+'_label']=LabelEncoder().fit_transform(test[col])"
      ],
      "metadata": {
        "id": "Bi0dpy2n6H-1"
      },
      "execution_count": 8,
      "outputs": []
    },
    {
      "cell_type": "markdown",
      "source": [
        "## feature engineering\n",
        "\n",
        "Thx!!!\n",
        "https://www.kaggle.com/lucamassaron/festivities-in-finland-norway-sweden"
      ],
      "metadata": {
        "id": "oZ19el_9_O_s"
      }
    },
    {
      "cell_type": "code",
      "source": [
        "holiday_list = list()"
      ],
      "metadata": {
        "id": "ZFRVgGeb_UD9"
      },
      "execution_count": 9,
      "outputs": []
    },
    {
      "cell_type": "code",
      "source": [
        "import holidays\n",
        "import dateutil.easter as easter"
      ],
      "metadata": {
        "id": "MjnGYqWs6IBV"
      },
      "execution_count": 10,
      "outputs": []
    },
    {
      "cell_type": "code",
      "source": [
        "#Finland\n",
        "\n",
        "for date in holidays.Finland(years=[2015,2016,2017,2018,2019],observed=True).items():\n",
        "  print(str(date[0]),date[1])\n",
        "  holiday_list.append([date[0],date[1],\"Finland\"])"
      ],
      "metadata": {
        "colab": {
          "base_uri": "https://localhost:8080/"
        },
        "id": "JhtK0lv16ID0",
        "outputId": "cac8db60-2e0b-4a12-f138-4a9d06c09581"
      },
      "execution_count": 11,
      "outputs": [
        {
          "output_type": "stream",
          "name": "stdout",
          "text": [
            "2016-01-01 Uudenvuodenpäivä\n",
            "2016-01-06 Loppiainen\n",
            "2016-03-25 Pitkäperjantai\n",
            "2016-03-27 Pääsiäispäivä\n",
            "2016-03-28 2. pääsiäispäivä\n",
            "2016-05-01 Vappu\n",
            "2016-05-05 Helatorstai\n",
            "2016-05-15 Helluntaipäivä\n",
            "2016-06-25 Juhannuspäivä\n",
            "2016-11-05 Pyhäinpäivä\n",
            "2016-12-06 Itsenäisyyspäivä\n",
            "2016-12-25 Joulupäivä\n",
            "2016-12-26 Tapaninpäivä\n",
            "2016-06-24 Juhannusaatto\n",
            "2016-12-24 Jouluaatto\n",
            "2017-01-01 Uudenvuodenpäivä\n",
            "2017-01-06 Loppiainen\n",
            "2017-04-14 Pitkäperjantai\n",
            "2017-04-16 Pääsiäispäivä\n",
            "2017-04-17 2. pääsiäispäivä\n",
            "2017-05-01 Vappu\n",
            "2017-05-25 Helatorstai\n",
            "2017-06-04 Helluntaipäivä\n",
            "2017-06-24 Juhannuspäivä\n",
            "2017-11-04 Pyhäinpäivä\n",
            "2017-12-06 Itsenäisyyspäivä\n",
            "2017-12-25 Joulupäivä\n",
            "2017-12-26 Tapaninpäivä\n",
            "2017-06-23 Juhannusaatto\n",
            "2017-12-24 Jouluaatto\n",
            "2018-01-01 Uudenvuodenpäivä\n",
            "2018-01-06 Loppiainen\n",
            "2018-03-30 Pitkäperjantai\n",
            "2018-04-01 Pääsiäispäivä\n",
            "2018-04-02 2. pääsiäispäivä\n",
            "2018-05-01 Vappu\n",
            "2018-05-10 Helatorstai\n",
            "2018-05-20 Helluntaipäivä\n",
            "2018-06-23 Juhannuspäivä\n",
            "2018-11-03 Pyhäinpäivä\n",
            "2018-12-06 Itsenäisyyspäivä\n",
            "2018-12-25 Joulupäivä\n",
            "2018-12-26 Tapaninpäivä\n",
            "2018-06-22 Juhannusaatto\n",
            "2018-12-24 Jouluaatto\n",
            "2019-01-01 Uudenvuodenpäivä\n",
            "2019-01-06 Loppiainen\n",
            "2019-04-19 Pitkäperjantai\n",
            "2019-04-21 Pääsiäispäivä\n",
            "2019-04-22 2. pääsiäispäivä\n",
            "2019-05-01 Vappu\n",
            "2019-05-30 Helatorstai\n",
            "2019-06-09 Helluntaipäivä\n",
            "2019-06-22 Juhannuspäivä\n",
            "2019-11-02 Pyhäinpäivä\n",
            "2019-12-06 Itsenäisyyspäivä\n",
            "2019-12-25 Joulupäivä\n",
            "2019-12-26 Tapaninpäivä\n",
            "2019-06-21 Juhannusaatto\n",
            "2019-12-24 Jouluaatto\n",
            "2015-01-01 Uudenvuodenpäivä\n",
            "2015-01-06 Loppiainen\n",
            "2015-04-03 Pitkäperjantai\n",
            "2015-04-05 Pääsiäispäivä\n",
            "2015-04-06 2. pääsiäispäivä\n",
            "2015-05-01 Vappu\n",
            "2015-05-14 Helatorstai\n",
            "2015-05-24 Helluntaipäivä\n",
            "2015-06-20 Juhannuspäivä\n",
            "2015-10-31 Pyhäinpäivä\n",
            "2015-12-06 Itsenäisyyspäivä\n",
            "2015-12-25 Joulupäivä\n",
            "2015-12-26 Tapaninpäivä\n",
            "2015-06-19 Juhannusaatto\n",
            "2015-12-24 Jouluaatto\n"
          ]
        }
      ]
    },
    {
      "cell_type": "code",
      "source": [
        "#Norway\n",
        "\n",
        "for date in holidays.Norway(years=[2015,2016,2017,2018,2019],observed=True).items():\n",
        "  print(str(date[0]),date[1])\n",
        "  holiday_list.append([date[0],date[1],\"Norway\"])"
      ],
      "metadata": {
        "colab": {
          "base_uri": "https://localhost:8080/"
        },
        "id": "0fhIpZxHBAm3",
        "outputId": "cbc1fd3f-671b-4a65-b731-28af2d0d5ee3"
      },
      "execution_count": 14,
      "outputs": [
        {
          "output_type": "stream",
          "name": "stdout",
          "text": [
            "2016-01-03 Søndag\n",
            "2016-01-10 Søndag\n",
            "2016-01-17 Søndag\n",
            "2016-01-24 Søndag\n",
            "2016-01-31 Søndag\n",
            "2016-02-07 Søndag\n",
            "2016-02-14 Søndag\n",
            "2016-02-21 Søndag\n",
            "2016-02-28 Søndag\n",
            "2016-03-06 Søndag\n",
            "2016-03-13 Søndag\n",
            "2016-03-20 Søndag\n",
            "2016-03-27 Første påskedag, Søndag\n",
            "2016-04-03 Søndag\n",
            "2016-04-10 Søndag\n",
            "2016-04-17 Søndag\n",
            "2016-04-24 Søndag\n",
            "2016-05-01 Arbeidernes dag, Søndag\n",
            "2016-05-08 Søndag\n",
            "2016-05-15 Første pinsedag, Søndag\n",
            "2016-05-22 Søndag\n",
            "2016-05-29 Søndag\n",
            "2016-06-05 Søndag\n",
            "2016-06-12 Søndag\n",
            "2016-06-19 Søndag\n",
            "2016-06-26 Søndag\n",
            "2016-07-03 Søndag\n",
            "2016-07-10 Søndag\n",
            "2016-07-17 Søndag\n",
            "2016-07-24 Søndag\n",
            "2016-07-31 Søndag\n",
            "2016-08-07 Søndag\n",
            "2016-08-14 Søndag\n",
            "2016-08-21 Søndag\n",
            "2016-08-28 Søndag\n",
            "2016-09-04 Søndag\n",
            "2016-09-11 Søndag\n",
            "2016-09-18 Søndag\n",
            "2016-09-25 Søndag\n",
            "2016-10-02 Søndag\n",
            "2016-10-09 Søndag\n",
            "2016-10-16 Søndag\n",
            "2016-10-23 Søndag\n",
            "2016-10-30 Søndag\n",
            "2016-11-06 Søndag\n",
            "2016-11-13 Søndag\n",
            "2016-11-20 Søndag\n",
            "2016-11-27 Søndag\n",
            "2016-12-04 Søndag\n",
            "2016-12-11 Søndag\n",
            "2016-12-18 Søndag\n",
            "2016-12-25 Første juledag, Søndag\n",
            "2016-01-01 Første nyttårsdag\n",
            "2016-05-17 Grunnlovsdag\n",
            "2016-12-26 Andre juledag\n",
            "2016-03-24 Skjærtorsdag\n",
            "2016-03-25 Langfredag\n",
            "2016-03-28 Andre påskedag\n",
            "2016-05-05 Kristi himmelfartsdag\n",
            "2016-05-16 Andre pinsedag\n",
            "2017-01-01 Første nyttårsdag, Søndag\n",
            "2017-01-08 Søndag\n",
            "2017-01-15 Søndag\n",
            "2017-01-22 Søndag\n",
            "2017-01-29 Søndag\n",
            "2017-02-05 Søndag\n",
            "2017-02-12 Søndag\n",
            "2017-02-19 Søndag\n",
            "2017-02-26 Søndag\n",
            "2017-03-05 Søndag\n",
            "2017-03-12 Søndag\n",
            "2017-03-19 Søndag\n",
            "2017-03-26 Søndag\n",
            "2017-04-02 Søndag\n",
            "2017-04-09 Søndag\n",
            "2017-04-16 Første påskedag, Søndag\n",
            "2017-04-23 Søndag\n",
            "2017-04-30 Søndag\n",
            "2017-05-07 Søndag\n",
            "2017-05-14 Søndag\n",
            "2017-05-21 Søndag\n",
            "2017-05-28 Søndag\n",
            "2017-06-04 Første pinsedag, Søndag\n",
            "2017-06-11 Søndag\n",
            "2017-06-18 Søndag\n",
            "2017-06-25 Søndag\n",
            "2017-07-02 Søndag\n",
            "2017-07-09 Søndag\n",
            "2017-07-16 Søndag\n",
            "2017-07-23 Søndag\n",
            "2017-07-30 Søndag\n",
            "2017-08-06 Søndag\n",
            "2017-08-13 Søndag\n",
            "2017-08-20 Søndag\n",
            "2017-08-27 Søndag\n",
            "2017-09-03 Søndag\n",
            "2017-09-10 Søndag\n",
            "2017-09-17 Søndag\n",
            "2017-09-24 Søndag\n",
            "2017-10-01 Søndag\n",
            "2017-10-08 Søndag\n",
            "2017-10-15 Søndag\n",
            "2017-10-22 Søndag\n",
            "2017-10-29 Søndag\n",
            "2017-11-05 Søndag\n",
            "2017-11-12 Søndag\n",
            "2017-11-19 Søndag\n",
            "2017-11-26 Søndag\n",
            "2017-12-03 Søndag\n",
            "2017-12-10 Søndag\n",
            "2017-12-17 Søndag\n",
            "2017-12-24 Søndag\n",
            "2017-12-31 Søndag\n",
            "2017-05-01 Arbeidernes dag\n",
            "2017-05-17 Grunnlovsdag\n",
            "2017-12-25 Første juledag\n",
            "2017-12-26 Andre juledag\n",
            "2017-04-13 Skjærtorsdag\n",
            "2017-04-14 Langfredag\n",
            "2017-04-17 Andre påskedag\n",
            "2017-05-25 Kristi himmelfartsdag\n",
            "2017-06-05 Andre pinsedag\n",
            "2018-01-07 Søndag\n",
            "2018-01-14 Søndag\n",
            "2018-01-21 Søndag\n",
            "2018-01-28 Søndag\n",
            "2018-02-04 Søndag\n",
            "2018-02-11 Søndag\n",
            "2018-02-18 Søndag\n",
            "2018-02-25 Søndag\n",
            "2018-03-04 Søndag\n",
            "2018-03-11 Søndag\n",
            "2018-03-18 Søndag\n",
            "2018-03-25 Søndag\n",
            "2018-04-01 Første påskedag, Søndag\n",
            "2018-04-08 Søndag\n",
            "2018-04-15 Søndag\n",
            "2018-04-22 Søndag\n",
            "2018-04-29 Søndag\n",
            "2018-05-06 Søndag\n",
            "2018-05-13 Søndag\n",
            "2018-05-20 Første pinsedag, Søndag\n",
            "2018-05-27 Søndag\n",
            "2018-06-03 Søndag\n",
            "2018-06-10 Søndag\n",
            "2018-06-17 Søndag\n",
            "2018-06-24 Søndag\n",
            "2018-07-01 Søndag\n",
            "2018-07-08 Søndag\n",
            "2018-07-15 Søndag\n",
            "2018-07-22 Søndag\n",
            "2018-07-29 Søndag\n",
            "2018-08-05 Søndag\n",
            "2018-08-12 Søndag\n",
            "2018-08-19 Søndag\n",
            "2018-08-26 Søndag\n",
            "2018-09-02 Søndag\n",
            "2018-09-09 Søndag\n",
            "2018-09-16 Søndag\n",
            "2018-09-23 Søndag\n",
            "2018-09-30 Søndag\n",
            "2018-10-07 Søndag\n",
            "2018-10-14 Søndag\n",
            "2018-10-21 Søndag\n",
            "2018-10-28 Søndag\n",
            "2018-11-04 Søndag\n",
            "2018-11-11 Søndag\n",
            "2018-11-18 Søndag\n",
            "2018-11-25 Søndag\n",
            "2018-12-02 Søndag\n",
            "2018-12-09 Søndag\n",
            "2018-12-16 Søndag\n",
            "2018-12-23 Søndag\n",
            "2018-12-30 Søndag\n",
            "2018-01-01 Første nyttårsdag\n",
            "2018-05-01 Arbeidernes dag\n",
            "2018-05-17 Grunnlovsdag\n",
            "2018-12-25 Første juledag\n",
            "2018-12-26 Andre juledag\n",
            "2018-03-29 Skjærtorsdag\n",
            "2018-03-30 Langfredag\n",
            "2018-04-02 Andre påskedag\n",
            "2018-05-10 Kristi himmelfartsdag\n",
            "2018-05-21 Andre pinsedag\n",
            "2019-01-06 Søndag\n",
            "2019-01-13 Søndag\n",
            "2019-01-20 Søndag\n",
            "2019-01-27 Søndag\n",
            "2019-02-03 Søndag\n",
            "2019-02-10 Søndag\n",
            "2019-02-17 Søndag\n",
            "2019-02-24 Søndag\n",
            "2019-03-03 Søndag\n",
            "2019-03-10 Søndag\n",
            "2019-03-17 Søndag\n",
            "2019-03-24 Søndag\n",
            "2019-03-31 Søndag\n",
            "2019-04-07 Søndag\n",
            "2019-04-14 Søndag\n",
            "2019-04-21 Første påskedag, Søndag\n",
            "2019-04-28 Søndag\n",
            "2019-05-05 Søndag\n",
            "2019-05-12 Søndag\n",
            "2019-05-19 Søndag\n",
            "2019-05-26 Søndag\n",
            "2019-06-02 Søndag\n",
            "2019-06-09 Første pinsedag, Søndag\n",
            "2019-06-16 Søndag\n",
            "2019-06-23 Søndag\n",
            "2019-06-30 Søndag\n",
            "2019-07-07 Søndag\n",
            "2019-07-14 Søndag\n",
            "2019-07-21 Søndag\n",
            "2019-07-28 Søndag\n",
            "2019-08-04 Søndag\n",
            "2019-08-11 Søndag\n",
            "2019-08-18 Søndag\n",
            "2019-08-25 Søndag\n",
            "2019-09-01 Søndag\n",
            "2019-09-08 Søndag\n",
            "2019-09-15 Søndag\n",
            "2019-09-22 Søndag\n",
            "2019-09-29 Søndag\n",
            "2019-10-06 Søndag\n",
            "2019-10-13 Søndag\n",
            "2019-10-20 Søndag\n",
            "2019-10-27 Søndag\n",
            "2019-11-03 Søndag\n",
            "2019-11-10 Søndag\n",
            "2019-11-17 Søndag\n",
            "2019-11-24 Søndag\n",
            "2019-12-01 Søndag\n",
            "2019-12-08 Søndag\n",
            "2019-12-15 Søndag\n",
            "2019-12-22 Søndag\n",
            "2019-12-29 Søndag\n",
            "2019-01-01 Første nyttårsdag\n",
            "2019-05-01 Arbeidernes dag\n",
            "2019-05-17 Grunnlovsdag\n",
            "2019-12-25 Første juledag\n",
            "2019-12-26 Andre juledag\n",
            "2019-04-18 Skjærtorsdag\n",
            "2019-04-19 Langfredag\n",
            "2019-04-22 Andre påskedag\n",
            "2019-05-30 Kristi himmelfartsdag\n",
            "2019-06-10 Andre pinsedag\n",
            "2015-01-04 Søndag\n",
            "2015-01-11 Søndag\n",
            "2015-01-18 Søndag\n",
            "2015-01-25 Søndag\n",
            "2015-02-01 Søndag\n",
            "2015-02-08 Søndag\n",
            "2015-02-15 Søndag\n",
            "2015-02-22 Søndag\n",
            "2015-03-01 Søndag\n",
            "2015-03-08 Søndag\n",
            "2015-03-15 Søndag\n",
            "2015-03-22 Søndag\n",
            "2015-03-29 Søndag\n",
            "2015-04-05 Første påskedag, Søndag\n",
            "2015-04-12 Søndag\n",
            "2015-04-19 Søndag\n",
            "2015-04-26 Søndag\n",
            "2015-05-03 Søndag\n",
            "2015-05-10 Søndag\n",
            "2015-05-17 Grunnlovsdag, Søndag\n",
            "2015-05-24 Første pinsedag, Søndag\n",
            "2015-05-31 Søndag\n",
            "2015-06-07 Søndag\n",
            "2015-06-14 Søndag\n",
            "2015-06-21 Søndag\n",
            "2015-06-28 Søndag\n",
            "2015-07-05 Søndag\n",
            "2015-07-12 Søndag\n",
            "2015-07-19 Søndag\n",
            "2015-07-26 Søndag\n",
            "2015-08-02 Søndag\n",
            "2015-08-09 Søndag\n",
            "2015-08-16 Søndag\n",
            "2015-08-23 Søndag\n",
            "2015-08-30 Søndag\n",
            "2015-09-06 Søndag\n",
            "2015-09-13 Søndag\n",
            "2015-09-20 Søndag\n",
            "2015-09-27 Søndag\n",
            "2015-10-04 Søndag\n",
            "2015-10-11 Søndag\n",
            "2015-10-18 Søndag\n",
            "2015-10-25 Søndag\n",
            "2015-11-01 Søndag\n",
            "2015-11-08 Søndag\n",
            "2015-11-15 Søndag\n",
            "2015-11-22 Søndag\n",
            "2015-11-29 Søndag\n",
            "2015-12-06 Søndag\n",
            "2015-12-13 Søndag\n",
            "2015-12-20 Søndag\n",
            "2015-12-27 Søndag\n",
            "2015-01-01 Første nyttårsdag\n",
            "2015-05-01 Arbeidernes dag\n",
            "2015-12-25 Første juledag\n",
            "2015-12-26 Andre juledag\n",
            "2015-04-02 Skjærtorsdag\n",
            "2015-04-03 Langfredag\n",
            "2015-04-06 Andre påskedag\n",
            "2015-05-14 Kristi himmelfartsdag\n",
            "2015-05-25 Andre pinsedag\n"
          ]
        }
      ]
    },
    {
      "cell_type": "code",
      "source": [
        "#sweden\n",
        "for date in holidays.Sweden(years=[2015,2016,2017,2018,2019],observed=True).items():\n",
        "  if date[1]!='Söndag':\n",
        "    print(str(date[0]),date[1].replace(\", Söndag\",\"\"))\n",
        "    holiday_list.append([date[0],date[1].replace(\", Söndag\",\"\"),\"Sweden\"])"
      ],
      "metadata": {
        "colab": {
          "base_uri": "https://localhost:8080/"
        },
        "id": "A9PDBM_nBApZ",
        "outputId": "ebd9b460-9de6-47f0-93f4-de6507e1b8db"
      },
      "execution_count": 15,
      "outputs": [
        {
          "output_type": "stream",
          "name": "stdout",
          "text": [
            "2016-03-27 Påskdagen\n",
            "2016-05-01 Första maj\n",
            "2016-05-15 Pingstdagen\n",
            "2016-12-25 Juldagen\n",
            "2016-01-01 Nyårsdagen\n",
            "2016-01-06 Trettondedag jul\n",
            "2016-06-06 Sveriges nationaldag\n",
            "2016-12-24 Julafton\n",
            "2016-12-26 Annandag jul\n",
            "2016-12-31 Nyårsafton\n",
            "2016-03-25 Långfredagen\n",
            "2016-03-28 Annandag påsk\n",
            "2016-05-05 Kristi himmelsfärdsdag\n",
            "2016-06-24 Midsommarafton\n",
            "2016-06-25 Midsommardagen\n",
            "2016-11-05 Alla helgons dag\n",
            "2017-01-01 Nyårsdagen\n",
            "2017-04-16 Påskdagen\n",
            "2017-06-04 Pingstdagen\n",
            "2017-12-24 Julafton\n",
            "2017-12-31 Nyårsafton\n",
            "2017-01-06 Trettondedag jul\n",
            "2017-05-01 Första maj\n",
            "2017-06-06 Sveriges nationaldag\n",
            "2017-12-25 Juldagen\n",
            "2017-12-26 Annandag jul\n",
            "2017-04-14 Långfredagen\n",
            "2017-04-17 Annandag påsk\n",
            "2017-05-25 Kristi himmelsfärdsdag\n",
            "2017-06-23 Midsommarafton\n",
            "2017-06-24 Midsommardagen\n",
            "2017-11-04 Alla helgons dag\n",
            "2018-04-01 Påskdagen\n",
            "2018-05-20 Pingstdagen\n",
            "2018-01-01 Nyårsdagen\n",
            "2018-01-06 Trettondedag jul\n",
            "2018-05-01 Första maj\n",
            "2018-06-06 Sveriges nationaldag\n",
            "2018-12-24 Julafton\n",
            "2018-12-25 Juldagen\n",
            "2018-12-26 Annandag jul\n",
            "2018-12-31 Nyårsafton\n",
            "2018-03-30 Långfredagen\n",
            "2018-04-02 Annandag påsk\n",
            "2018-05-10 Kristi himmelsfärdsdag\n",
            "2018-06-22 Midsommarafton\n",
            "2018-06-23 Midsommardagen\n",
            "2018-11-03 Alla helgons dag\n",
            "2019-01-06 Trettondedag jul\n",
            "2019-04-21 Påskdagen\n",
            "2019-06-09 Pingstdagen\n",
            "2019-01-01 Nyårsdagen\n",
            "2019-05-01 Första maj\n",
            "2019-06-06 Sveriges nationaldag\n",
            "2019-12-24 Julafton\n",
            "2019-12-25 Juldagen\n",
            "2019-12-26 Annandag jul\n",
            "2019-12-31 Nyårsafton\n",
            "2019-04-19 Långfredagen\n",
            "2019-04-22 Annandag påsk\n",
            "2019-05-30 Kristi himmelsfärdsdag\n",
            "2019-06-21 Midsommarafton\n",
            "2019-06-22 Midsommardagen\n",
            "2019-11-02 Alla helgons dag\n",
            "2015-04-05 Påskdagen\n",
            "2015-05-24 Pingstdagen\n",
            "2015-01-01 Nyårsdagen\n",
            "2015-01-06 Trettondedag jul\n",
            "2015-05-01 Första maj\n",
            "2015-06-06 Sveriges nationaldag\n",
            "2015-12-24 Julafton\n",
            "2015-12-25 Juldagen\n",
            "2015-12-26 Annandag jul\n",
            "2015-12-31 Nyårsafton\n",
            "2015-04-03 Långfredagen\n",
            "2015-04-06 Annandag påsk\n",
            "2015-05-14 Kristi himmelsfärdsdag\n",
            "2015-06-19 Midsommarafton\n",
            "2015-06-20 Midsommardagen\n",
            "2015-10-31 Alla helgons dag\n"
          ]
        }
      ]
    },
    {
      "cell_type": "code",
      "source": [
        "holidays_df=pd.DataFrame(holiday_list,columns=['date','holiday','country'])\n",
        "holidays_df['date']=pd.to_datetime(holidays_df['date'])"
      ],
      "metadata": {
        "id": "KzWE9klyBBzT"
      },
      "execution_count": 16,
      "outputs": []
    },
    {
      "cell_type": "code",
      "source": [
        "holidays_df.shape"
      ],
      "metadata": {
        "colab": {
          "base_uri": "https://localhost:8080/"
        },
        "id": "Ci6pvgXlBB9X",
        "outputId": "e5533e46-4bfd-4397-cf8c-f0c2af8e71f8"
      },
      "execution_count": 17,
      "outputs": [
        {
          "output_type": "execute_result",
          "data": {
            "text/plain": [
              "(462, 3)"
            ]
          },
          "metadata": {},
          "execution_count": 17
        }
      ]
    },
    {
      "cell_type": "code",
      "source": [
        "holidays_df.head(5)"
      ],
      "metadata": {
        "colab": {
          "base_uri": "https://localhost:8080/",
          "height": 206
        },
        "id": "ulPDUfrASEnX",
        "outputId": "96fd1993-de3c-4a4b-809b-730f56fce476"
      },
      "execution_count": 18,
      "outputs": [
        {
          "output_type": "execute_result",
          "data": {
            "text/html": [
              "\n",
              "  <div id=\"df-816aa9b0-5fac-485f-b7d8-d2c5f8e8dda5\">\n",
              "    <div class=\"colab-df-container\">\n",
              "      <div>\n",
              "<style scoped>\n",
              "    .dataframe tbody tr th:only-of-type {\n",
              "        vertical-align: middle;\n",
              "    }\n",
              "\n",
              "    .dataframe tbody tr th {\n",
              "        vertical-align: top;\n",
              "    }\n",
              "\n",
              "    .dataframe thead th {\n",
              "        text-align: right;\n",
              "    }\n",
              "</style>\n",
              "<table border=\"1\" class=\"dataframe\">\n",
              "  <thead>\n",
              "    <tr style=\"text-align: right;\">\n",
              "      <th></th>\n",
              "      <th>date</th>\n",
              "      <th>holiday</th>\n",
              "      <th>country</th>\n",
              "    </tr>\n",
              "  </thead>\n",
              "  <tbody>\n",
              "    <tr>\n",
              "      <th>0</th>\n",
              "      <td>2016-01-01</td>\n",
              "      <td>Uudenvuodenpäivä</td>\n",
              "      <td>Finland</td>\n",
              "    </tr>\n",
              "    <tr>\n",
              "      <th>1</th>\n",
              "      <td>2016-01-06</td>\n",
              "      <td>Loppiainen</td>\n",
              "      <td>Finland</td>\n",
              "    </tr>\n",
              "    <tr>\n",
              "      <th>2</th>\n",
              "      <td>2016-03-25</td>\n",
              "      <td>Pitkäperjantai</td>\n",
              "      <td>Finland</td>\n",
              "    </tr>\n",
              "    <tr>\n",
              "      <th>3</th>\n",
              "      <td>2016-03-27</td>\n",
              "      <td>Pääsiäispäivä</td>\n",
              "      <td>Finland</td>\n",
              "    </tr>\n",
              "    <tr>\n",
              "      <th>4</th>\n",
              "      <td>2016-03-28</td>\n",
              "      <td>2. pääsiäispäivä</td>\n",
              "      <td>Finland</td>\n",
              "    </tr>\n",
              "  </tbody>\n",
              "</table>\n",
              "</div>\n",
              "      <button class=\"colab-df-convert\" onclick=\"convertToInteractive('df-816aa9b0-5fac-485f-b7d8-d2c5f8e8dda5')\"\n",
              "              title=\"Convert this dataframe to an interactive table.\"\n",
              "              style=\"display:none;\">\n",
              "        \n",
              "  <svg xmlns=\"http://www.w3.org/2000/svg\" height=\"24px\"viewBox=\"0 0 24 24\"\n",
              "       width=\"24px\">\n",
              "    <path d=\"M0 0h24v24H0V0z\" fill=\"none\"/>\n",
              "    <path d=\"M18.56 5.44l.94 2.06.94-2.06 2.06-.94-2.06-.94-.94-2.06-.94 2.06-2.06.94zm-11 1L8.5 8.5l.94-2.06 2.06-.94-2.06-.94L8.5 2.5l-.94 2.06-2.06.94zm10 10l.94 2.06.94-2.06 2.06-.94-2.06-.94-.94-2.06-.94 2.06-2.06.94z\"/><path d=\"M17.41 7.96l-1.37-1.37c-.4-.4-.92-.59-1.43-.59-.52 0-1.04.2-1.43.59L10.3 9.45l-7.72 7.72c-.78.78-.78 2.05 0 2.83L4 21.41c.39.39.9.59 1.41.59.51 0 1.02-.2 1.41-.59l7.78-7.78 2.81-2.81c.8-.78.8-2.07 0-2.86zM5.41 20L4 18.59l7.72-7.72 1.47 1.35L5.41 20z\"/>\n",
              "  </svg>\n",
              "      </button>\n",
              "      \n",
              "  <style>\n",
              "    .colab-df-container {\n",
              "      display:flex;\n",
              "      flex-wrap:wrap;\n",
              "      gap: 12px;\n",
              "    }\n",
              "\n",
              "    .colab-df-convert {\n",
              "      background-color: #E8F0FE;\n",
              "      border: none;\n",
              "      border-radius: 50%;\n",
              "      cursor: pointer;\n",
              "      display: none;\n",
              "      fill: #1967D2;\n",
              "      height: 32px;\n",
              "      padding: 0 0 0 0;\n",
              "      width: 32px;\n",
              "    }\n",
              "\n",
              "    .colab-df-convert:hover {\n",
              "      background-color: #E2EBFA;\n",
              "      box-shadow: 0px 1px 2px rgba(60, 64, 67, 0.3), 0px 1px 3px 1px rgba(60, 64, 67, 0.15);\n",
              "      fill: #174EA6;\n",
              "    }\n",
              "\n",
              "    [theme=dark] .colab-df-convert {\n",
              "      background-color: #3B4455;\n",
              "      fill: #D2E3FC;\n",
              "    }\n",
              "\n",
              "    [theme=dark] .colab-df-convert:hover {\n",
              "      background-color: #434B5C;\n",
              "      box-shadow: 0px 1px 3px 1px rgba(0, 0, 0, 0.15);\n",
              "      filter: drop-shadow(0px 1px 2px rgba(0, 0, 0, 0.3));\n",
              "      fill: #FFFFFF;\n",
              "    }\n",
              "  </style>\n",
              "\n",
              "      <script>\n",
              "        const buttonEl =\n",
              "          document.querySelector('#df-816aa9b0-5fac-485f-b7d8-d2c5f8e8dda5 button.colab-df-convert');\n",
              "        buttonEl.style.display =\n",
              "          google.colab.kernel.accessAllowed ? 'block' : 'none';\n",
              "\n",
              "        async function convertToInteractive(key) {\n",
              "          const element = document.querySelector('#df-816aa9b0-5fac-485f-b7d8-d2c5f8e8dda5');\n",
              "          const dataTable =\n",
              "            await google.colab.kernel.invokeFunction('convertToInteractive',\n",
              "                                                     [key], {});\n",
              "          if (!dataTable) return;\n",
              "\n",
              "          const docLinkHtml = 'Like what you see? Visit the ' +\n",
              "            '<a target=\"_blank\" href=https://colab.research.google.com/notebooks/data_table.ipynb>data table notebook</a>'\n",
              "            + ' to learn more about interactive tables.';\n",
              "          element.innerHTML = '';\n",
              "          dataTable['output_type'] = 'display_data';\n",
              "          await google.colab.output.renderOutput(dataTable, element);\n",
              "          const docLink = document.createElement('div');\n",
              "          docLink.innerHTML = docLinkHtml;\n",
              "          element.appendChild(docLink);\n",
              "        }\n",
              "      </script>\n",
              "    </div>\n",
              "  </div>\n",
              "  "
            ],
            "text/plain": [
              "        date           holiday  country\n",
              "0 2016-01-01  Uudenvuodenpäivä  Finland\n",
              "1 2016-01-06        Loppiainen  Finland\n",
              "2 2016-03-25    Pitkäperjantai  Finland\n",
              "3 2016-03-27     Pääsiäispäivä  Finland\n",
              "4 2016-03-28  2. pääsiäispäivä  Finland"
            ]
          },
          "metadata": {},
          "execution_count": 18
        }
      ]
    },
    {
      "cell_type": "code",
      "source": [
        "special_dates_list = list()\n",
        "\n",
        "# Last week of the year\n",
        "for year in [2015, 2016, 2017, 2018, 2019]:\n",
        "    for i, day in enumerate(range(24, 32)):\n",
        "        for country in ['Finland', 'Sweden', 'Norway']:\n",
        "             special_dates_list.append([pd.to_datetime(f\"{year}-{12}-{day}\").date(), \n",
        "                                  f\"Last week of the year (day {i+1})\", \n",
        "                                  country])\n",
        "# Swedish Rock Concert\n",
        "for start, end, year in [[3,6,2015],[8,11,2016],[7,10,2017],[6,10,2018],[5,8,2019]]:\n",
        "    for i, day in enumerate(range(start, end+1)):\n",
        "        special_dates_list.append([pd.to_datetime(f\"{year}-{6}-{day}\").date(), \n",
        "                                  f\"Swedish Rock Concert (day {i+1})\", \n",
        "                                  \"Sweden\"])\n",
        "        \n",
        "# Last Wednesday of June\n",
        "for date in ['2015-06-24', '2016-06-29', '2017-06-28', '2018-06-27', '2019-06-26']:\n",
        "    for country in ['Finland', 'Sweden', 'Norway']:\n",
        "         special_dates_list.append([pd.to_datetime(date).date(), \n",
        "                                  f\"Last Wednesday of June\", \n",
        "                                  country])\n",
        "            \n",
        "# First Sunday of November\n",
        "for date in ['2015-11-1', '2016-11-6', '2017-11-5', '2018-11-4', '2019-11-3']:\n",
        "    for country in ['Finland', 'Sweden', 'Norway']:\n",
        "         special_dates_list.append([pd.to_datetime(date).date(), \n",
        "                                  f\"First Sunday of November\", \n",
        "                                  country])\n",
        "            \n",
        "# Independence Day of Finland\n",
        "for year in [2015, 2016, 2017, 2018, 2019]:\n",
        "    special_dates_list.append([pd.to_datetime(f\"{year}-{12}-{6}\").date(), \n",
        "                                      f\"Independence Day of Finland\", \n",
        "                                      'Finland'])\n",
        "\n",
        "# Easter\n",
        "easter_date = [easter.easter(y) for y in [2015, 2016, 2017, 2018, 2019]]\n",
        "for date in easter_date:\n",
        "    for country in ['Finland', 'Sweden', 'Norway']:\n",
        "         special_dates_list.append([pd.to_datetime(date).date(), \n",
        "                                  f\"Easter\", \n",
        "                                  country])\n"
      ],
      "metadata": {
        "id": "v1OK7gikK-Og"
      },
      "execution_count": 19,
      "outputs": []
    },
    {
      "cell_type": "code",
      "source": [
        "special_dates_df = pd.DataFrame(special_dates_list, columns=['date', 'special_dates', 'country'])\n",
        "special_dates_df['date'] = pd.to_datetime(special_dates_df['date'])"
      ],
      "metadata": {
        "id": "WCrRwAwhLcOD"
      },
      "execution_count": 20,
      "outputs": []
    },
    {
      "cell_type": "code",
      "source": [
        "special_dates_df.shape"
      ],
      "metadata": {
        "colab": {
          "base_uri": "https://localhost:8080/"
        },
        "id": "qDxjkYPcLkQY",
        "outputId": "d0c8b2e1-1220-4c37-8248-76efd9fef417"
      },
      "execution_count": 21,
      "outputs": [
        {
          "output_type": "execute_result",
          "data": {
            "text/plain": [
              "(191, 3)"
            ]
          },
          "metadata": {},
          "execution_count": 21
        }
      ]
    },
    {
      "cell_type": "code",
      "source": [
        "special_dates_df.head()"
      ],
      "metadata": {
        "colab": {
          "base_uri": "https://localhost:8080/",
          "height": 206
        },
        "id": "Lw-CmDr7SI9-",
        "outputId": "afac3df1-f4fc-4b02-8827-07049c990589"
      },
      "execution_count": 22,
      "outputs": [
        {
          "output_type": "execute_result",
          "data": {
            "text/html": [
              "\n",
              "  <div id=\"df-fc0c43e9-55c4-4058-890e-70c671d4c998\">\n",
              "    <div class=\"colab-df-container\">\n",
              "      <div>\n",
              "<style scoped>\n",
              "    .dataframe tbody tr th:only-of-type {\n",
              "        vertical-align: middle;\n",
              "    }\n",
              "\n",
              "    .dataframe tbody tr th {\n",
              "        vertical-align: top;\n",
              "    }\n",
              "\n",
              "    .dataframe thead th {\n",
              "        text-align: right;\n",
              "    }\n",
              "</style>\n",
              "<table border=\"1\" class=\"dataframe\">\n",
              "  <thead>\n",
              "    <tr style=\"text-align: right;\">\n",
              "      <th></th>\n",
              "      <th>date</th>\n",
              "      <th>special_dates</th>\n",
              "      <th>country</th>\n",
              "    </tr>\n",
              "  </thead>\n",
              "  <tbody>\n",
              "    <tr>\n",
              "      <th>0</th>\n",
              "      <td>2015-12-24</td>\n",
              "      <td>Last week of the year (day 1)</td>\n",
              "      <td>Finland</td>\n",
              "    </tr>\n",
              "    <tr>\n",
              "      <th>1</th>\n",
              "      <td>2015-12-24</td>\n",
              "      <td>Last week of the year (day 1)</td>\n",
              "      <td>Sweden</td>\n",
              "    </tr>\n",
              "    <tr>\n",
              "      <th>2</th>\n",
              "      <td>2015-12-24</td>\n",
              "      <td>Last week of the year (day 1)</td>\n",
              "      <td>Norway</td>\n",
              "    </tr>\n",
              "    <tr>\n",
              "      <th>3</th>\n",
              "      <td>2015-12-25</td>\n",
              "      <td>Last week of the year (day 2)</td>\n",
              "      <td>Finland</td>\n",
              "    </tr>\n",
              "    <tr>\n",
              "      <th>4</th>\n",
              "      <td>2015-12-25</td>\n",
              "      <td>Last week of the year (day 2)</td>\n",
              "      <td>Sweden</td>\n",
              "    </tr>\n",
              "  </tbody>\n",
              "</table>\n",
              "</div>\n",
              "      <button class=\"colab-df-convert\" onclick=\"convertToInteractive('df-fc0c43e9-55c4-4058-890e-70c671d4c998')\"\n",
              "              title=\"Convert this dataframe to an interactive table.\"\n",
              "              style=\"display:none;\">\n",
              "        \n",
              "  <svg xmlns=\"http://www.w3.org/2000/svg\" height=\"24px\"viewBox=\"0 0 24 24\"\n",
              "       width=\"24px\">\n",
              "    <path d=\"M0 0h24v24H0V0z\" fill=\"none\"/>\n",
              "    <path d=\"M18.56 5.44l.94 2.06.94-2.06 2.06-.94-2.06-.94-.94-2.06-.94 2.06-2.06.94zm-11 1L8.5 8.5l.94-2.06 2.06-.94-2.06-.94L8.5 2.5l-.94 2.06-2.06.94zm10 10l.94 2.06.94-2.06 2.06-.94-2.06-.94-.94-2.06-.94 2.06-2.06.94z\"/><path d=\"M17.41 7.96l-1.37-1.37c-.4-.4-.92-.59-1.43-.59-.52 0-1.04.2-1.43.59L10.3 9.45l-7.72 7.72c-.78.78-.78 2.05 0 2.83L4 21.41c.39.39.9.59 1.41.59.51 0 1.02-.2 1.41-.59l7.78-7.78 2.81-2.81c.8-.78.8-2.07 0-2.86zM5.41 20L4 18.59l7.72-7.72 1.47 1.35L5.41 20z\"/>\n",
              "  </svg>\n",
              "      </button>\n",
              "      \n",
              "  <style>\n",
              "    .colab-df-container {\n",
              "      display:flex;\n",
              "      flex-wrap:wrap;\n",
              "      gap: 12px;\n",
              "    }\n",
              "\n",
              "    .colab-df-convert {\n",
              "      background-color: #E8F0FE;\n",
              "      border: none;\n",
              "      border-radius: 50%;\n",
              "      cursor: pointer;\n",
              "      display: none;\n",
              "      fill: #1967D2;\n",
              "      height: 32px;\n",
              "      padding: 0 0 0 0;\n",
              "      width: 32px;\n",
              "    }\n",
              "\n",
              "    .colab-df-convert:hover {\n",
              "      background-color: #E2EBFA;\n",
              "      box-shadow: 0px 1px 2px rgba(60, 64, 67, 0.3), 0px 1px 3px 1px rgba(60, 64, 67, 0.15);\n",
              "      fill: #174EA6;\n",
              "    }\n",
              "\n",
              "    [theme=dark] .colab-df-convert {\n",
              "      background-color: #3B4455;\n",
              "      fill: #D2E3FC;\n",
              "    }\n",
              "\n",
              "    [theme=dark] .colab-df-convert:hover {\n",
              "      background-color: #434B5C;\n",
              "      box-shadow: 0px 1px 3px 1px rgba(0, 0, 0, 0.15);\n",
              "      filter: drop-shadow(0px 1px 2px rgba(0, 0, 0, 0.3));\n",
              "      fill: #FFFFFF;\n",
              "    }\n",
              "  </style>\n",
              "\n",
              "      <script>\n",
              "        const buttonEl =\n",
              "          document.querySelector('#df-fc0c43e9-55c4-4058-890e-70c671d4c998 button.colab-df-convert');\n",
              "        buttonEl.style.display =\n",
              "          google.colab.kernel.accessAllowed ? 'block' : 'none';\n",
              "\n",
              "        async function convertToInteractive(key) {\n",
              "          const element = document.querySelector('#df-fc0c43e9-55c4-4058-890e-70c671d4c998');\n",
              "          const dataTable =\n",
              "            await google.colab.kernel.invokeFunction('convertToInteractive',\n",
              "                                                     [key], {});\n",
              "          if (!dataTable) return;\n",
              "\n",
              "          const docLinkHtml = 'Like what you see? Visit the ' +\n",
              "            '<a target=\"_blank\" href=https://colab.research.google.com/notebooks/data_table.ipynb>data table notebook</a>'\n",
              "            + ' to learn more about interactive tables.';\n",
              "          element.innerHTML = '';\n",
              "          dataTable['output_type'] = 'display_data';\n",
              "          await google.colab.output.renderOutput(dataTable, element);\n",
              "          const docLink = document.createElement('div');\n",
              "          docLink.innerHTML = docLinkHtml;\n",
              "          element.appendChild(docLink);\n",
              "        }\n",
              "      </script>\n",
              "    </div>\n",
              "  </div>\n",
              "  "
            ],
            "text/plain": [
              "        date                  special_dates  country\n",
              "0 2015-12-24  Last week of the year (day 1)  Finland\n",
              "1 2015-12-24  Last week of the year (day 1)   Sweden\n",
              "2 2015-12-24  Last week of the year (day 1)   Norway\n",
              "3 2015-12-25  Last week of the year (day 2)  Finland\n",
              "4 2015-12-25  Last week of the year (day 2)   Sweden"
            ]
          },
          "metadata": {},
          "execution_count": 22
        }
      ]
    },
    {
      "cell_type": "code",
      "source": [
        "from datetime import datetime\n",
        "def feature_engineering(df):\n",
        "\n",
        "    df['date'] = pd.to_datetime(df['date'])\n",
        "    df['year'] = df['date'].dt.year\n",
        "    df['month']= df['date'].dt.month\n",
        "    df['week']= df['date'].dt.week\n",
        "    df['day'] = df['date'].dt.day\n",
        "    df['quarter'] = df['date'].dt.quarter\n",
        "    df['dayofyear'] = df['date'].dt.dayofyear\n",
        "    df['weekend'] = df['date'].dt.weekday >=5\n",
        "    df['weekday'] = df['date'].dt.weekday\n",
        "    \n",
        "    # holidays & special_dates\n",
        "    df = df.merge(holidays_df, on=['date', 'country'], how='left')\n",
        "    df = df.merge(special_dates_df, on=['date', 'country'], how='left')\n",
        "\n",
        "    df['is_holiday'] = df['holiday'].apply(lambda x: True if not pd.isnull(x) else False)\n",
        "    df['is_special_dates'] = df['special_dates'].apply(lambda x: True if not pd.isnull(x) else False)\n",
        "    \n",
        "    return df\n",
        "\n",
        "\n",
        "train=feature_engineering(train)\n",
        "test=feature_engineering(test)\n",
        "test.info(verbose=True,memory_usage=\"deep\")\n"
      ],
      "metadata": {
        "colab": {
          "base_uri": "https://localhost:8080/"
        },
        "id": "7W6vKS8ULkTd",
        "outputId": "9612a799-09db-4725-f990-507711715835"
      },
      "execution_count": 23,
      "outputs": [
        {
          "output_type": "stream",
          "name": "stdout",
          "text": [
            "<class 'pandas.core.frame.DataFrame'>\n",
            "Int64Index: 6570 entries, 0 to 6569\n",
            "Data columns (total 20 columns):\n",
            " #   Column            Non-Null Count  Dtype         \n",
            "---  ------            --------------  -----         \n",
            " 0   row_id            6570 non-null   int64         \n",
            " 1   date              6570 non-null   datetime64[ns]\n",
            " 2   country           6570 non-null   object        \n",
            " 3   store             6570 non-null   object        \n",
            " 4   product           6570 non-null   object        \n",
            " 5   country_label     6570 non-null   int64         \n",
            " 6   store_label       6570 non-null   int64         \n",
            " 7   product_label     6570 non-null   int64         \n",
            " 8   year              6570 non-null   int64         \n",
            " 9   month             6570 non-null   int64         \n",
            " 10  week              6570 non-null   int64         \n",
            " 11  day               6570 non-null   int64         \n",
            " 12  quarter           6570 non-null   int64         \n",
            " 13  dayofyear         6570 non-null   int64         \n",
            " 14  weekend           6570 non-null   bool          \n",
            " 15  weekday           6570 non-null   int64         \n",
            " 16  holiday           558 non-null    object        \n",
            " 17  special_dates     228 non-null    object        \n",
            " 18  is_holiday        6570 non-null   bool          \n",
            " 19  is_special_dates  6570 non-null   bool          \n",
            "dtypes: bool(3), datetime64[ns](1), int64(11), object(5)\n",
            "memory usage: 2.4 MB\n"
          ]
        },
        {
          "output_type": "stream",
          "name": "stderr",
          "text": [
            "/usr/local/lib/python3.7/dist-packages/ipykernel_launcher.py:7: FutureWarning: Series.dt.weekofyear and Series.dt.week have been deprecated.  Please use Series.dt.isocalendar().week instead.\n",
            "  import sys\n",
            "/usr/local/lib/python3.7/dist-packages/ipykernel_launcher.py:7: FutureWarning: Series.dt.weekofyear and Series.dt.week have been deprecated.  Please use Series.dt.isocalendar().week instead.\n",
            "  import sys\n"
          ]
        }
      ]
    },
    {
      "cell_type": "code",
      "source": [
        "train.info(verbose=True, memory_usage=\"deep\")"
      ],
      "metadata": {
        "colab": {
          "base_uri": "https://localhost:8080/"
        },
        "id": "9rJVavPAUVky",
        "outputId": "74589ad7-c66e-4580-b4d8-72a11475a019"
      },
      "execution_count": null,
      "outputs": [
        {
          "output_type": "stream",
          "name": "stdout",
          "text": [
            "<class 'pandas.core.frame.DataFrame'>\n",
            "Int64Index: 26298 entries, 0 to 26297\n",
            "Data columns (total 21 columns):\n",
            " #   Column            Non-Null Count  Dtype         \n",
            "---  ------            --------------  -----         \n",
            " 0   row_id            26298 non-null  int64         \n",
            " 1   date              26298 non-null  datetime64[ns]\n",
            " 2   country           26298 non-null  object        \n",
            " 3   store             26298 non-null  object        \n",
            " 4   product           26298 non-null  object        \n",
            " 5   num_sold          26298 non-null  int64         \n",
            " 6   country_label     26298 non-null  int64         \n",
            " 7   store_label       26298 non-null  int64         \n",
            " 8   product_label     26298 non-null  int64         \n",
            " 9   year              26298 non-null  int64         \n",
            " 10  month             26298 non-null  int64         \n",
            " 11  week              26298 non-null  int64         \n",
            " 12  day               26298 non-null  int64         \n",
            " 13  quarter           26298 non-null  int64         \n",
            " 14  dayofyear         26298 non-null  int64         \n",
            " 15  weekend           26298 non-null  bool          \n",
            " 16  weekday           26298 non-null  int64         \n",
            " 17  holiday           2214 non-null   object        \n",
            " 18  special_dates     918 non-null    object        \n",
            " 19  is_holiday        26298 non-null  bool          \n",
            " 20  is_special_dates  26298 non-null  bool          \n",
            "dtypes: bool(3), datetime64[ns](1), int64(12), object(5)\n",
            "memory usage: 9.6 MB\n"
          ]
        }
      ]
    },
    {
      "cell_type": "markdown",
      "source": [
        "## category feature get dummies\n",
        "\n",
        "one-hot"
      ],
      "metadata": {
        "id": "0naCwmuaUseA"
      }
    },
    {
      "cell_type": "code",
      "source": [
        "train_dum = pd.get_dummies(train, columns=['store', 'country', 'product'])\n",
        "test_dum = pd.get_dummies(test, columns=['store', 'country', 'product'])"
      ],
      "metadata": {
        "id": "4_OcJPprUv2g"
      },
      "execution_count": 24,
      "outputs": []
    },
    {
      "cell_type": "code",
      "source": [
        "train_dum.info()"
      ],
      "metadata": {
        "colab": {
          "base_uri": "https://localhost:8080/"
        },
        "id": "VhOVAGlQWyuE",
        "outputId": "eebf1613-4ad4-47c4-c6c2-4de654c44c31"
      },
      "execution_count": 25,
      "outputs": [
        {
          "output_type": "stream",
          "name": "stdout",
          "text": [
            "<class 'pandas.core.frame.DataFrame'>\n",
            "Int64Index: 26298 entries, 0 to 26297\n",
            "Data columns (total 26 columns):\n",
            " #   Column                  Non-Null Count  Dtype         \n",
            "---  ------                  --------------  -----         \n",
            " 0   row_id                  26298 non-null  int64         \n",
            " 1   date                    26298 non-null  datetime64[ns]\n",
            " 2   num_sold                26298 non-null  int64         \n",
            " 3   country_label           26298 non-null  int64         \n",
            " 4   store_label             26298 non-null  int64         \n",
            " 5   product_label           26298 non-null  int64         \n",
            " 6   year                    26298 non-null  int64         \n",
            " 7   month                   26298 non-null  int64         \n",
            " 8   week                    26298 non-null  int64         \n",
            " 9   day                     26298 non-null  int64         \n",
            " 10  quarter                 26298 non-null  int64         \n",
            " 11  dayofyear               26298 non-null  int64         \n",
            " 12  weekend                 26298 non-null  bool          \n",
            " 13  weekday                 26298 non-null  int64         \n",
            " 14  holiday                 2214 non-null   object        \n",
            " 15  special_dates           918 non-null    object        \n",
            " 16  is_holiday              26298 non-null  bool          \n",
            " 17  is_special_dates        26298 non-null  bool          \n",
            " 18  store_KaggleMart        26298 non-null  uint8         \n",
            " 19  store_KaggleRama        26298 non-null  uint8         \n",
            " 20  country_Finland         26298 non-null  uint8         \n",
            " 21  country_Norway          26298 non-null  uint8         \n",
            " 22  country_Sweden          26298 non-null  uint8         \n",
            " 23  product_Kaggle Hat      26298 non-null  uint8         \n",
            " 24  product_Kaggle Mug      26298 non-null  uint8         \n",
            " 25  product_Kaggle Sticker  26298 non-null  uint8         \n",
            "dtypes: bool(3), datetime64[ns](1), int64(12), object(2), uint8(8)\n",
            "memory usage: 3.5+ MB\n"
          ]
        }
      ]
    },
    {
      "cell_type": "code",
      "source": [
        "test_dum.info()"
      ],
      "metadata": {
        "colab": {
          "base_uri": "https://localhost:8080/"
        },
        "id": "lMcgGJBwXAot",
        "outputId": "0a6148a1-ac3b-4863-ff22-66a26c754194"
      },
      "execution_count": 26,
      "outputs": [
        {
          "output_type": "stream",
          "name": "stdout",
          "text": [
            "<class 'pandas.core.frame.DataFrame'>\n",
            "Int64Index: 6570 entries, 0 to 6569\n",
            "Data columns (total 25 columns):\n",
            " #   Column                  Non-Null Count  Dtype         \n",
            "---  ------                  --------------  -----         \n",
            " 0   row_id                  6570 non-null   int64         \n",
            " 1   date                    6570 non-null   datetime64[ns]\n",
            " 2   country_label           6570 non-null   int64         \n",
            " 3   store_label             6570 non-null   int64         \n",
            " 4   product_label           6570 non-null   int64         \n",
            " 5   year                    6570 non-null   int64         \n",
            " 6   month                   6570 non-null   int64         \n",
            " 7   week                    6570 non-null   int64         \n",
            " 8   day                     6570 non-null   int64         \n",
            " 9   quarter                 6570 non-null   int64         \n",
            " 10  dayofyear               6570 non-null   int64         \n",
            " 11  weekend                 6570 non-null   bool          \n",
            " 12  weekday                 6570 non-null   int64         \n",
            " 13  holiday                 558 non-null    object        \n",
            " 14  special_dates           228 non-null    object        \n",
            " 15  is_holiday              6570 non-null   bool          \n",
            " 16  is_special_dates        6570 non-null   bool          \n",
            " 17  store_KaggleMart        6570 non-null   uint8         \n",
            " 18  store_KaggleRama        6570 non-null   uint8         \n",
            " 19  country_Finland         6570 non-null   uint8         \n",
            " 20  country_Norway          6570 non-null   uint8         \n",
            " 21  country_Sweden          6570 non-null   uint8         \n",
            " 22  product_Kaggle Hat      6570 non-null   uint8         \n",
            " 23  product_Kaggle Mug      6570 non-null   uint8         \n",
            " 24  product_Kaggle Sticker  6570 non-null   uint8         \n",
            "dtypes: bool(3), datetime64[ns](1), int64(11), object(2), uint8(8)\n",
            "memory usage: 840.5+ KB\n"
          ]
        }
      ]
    },
    {
      "cell_type": "markdown",
      "source": [
        "## EDA"
      ],
      "metadata": {
        "id": "zO6JsVsL4Saw"
      }
    },
    {
      "cell_type": "code",
      "source": [
        "train_dum.columns"
      ],
      "metadata": {
        "colab": {
          "base_uri": "https://localhost:8080/"
        },
        "id": "oHdjeZj73mRp",
        "outputId": "9369b864-6af3-4d06-f0d3-d8d93dbe176b"
      },
      "execution_count": null,
      "outputs": [
        {
          "output_type": "execute_result",
          "data": {
            "text/plain": [
              "Index(['row_id', 'date', 'num_sold', 'country_label', 'store_label',\n",
              "       'product_label', 'year', 'month', 'week', 'day', 'quarter', 'dayofyear',\n",
              "       'weekend', 'weekday', 'holiday', 'special_dates', 'is_holiday',\n",
              "       'is_special_dates', 'store_KaggleMart', 'store_KaggleRama',\n",
              "       'country_Finland', 'country_Norway', 'country_Sweden',\n",
              "       'product_Kaggle Hat', 'product_Kaggle Mug', 'product_Kaggle Sticker'],\n",
              "      dtype='object')"
            ]
          },
          "metadata": {},
          "execution_count": 67
        }
      ]
    },
    {
      "cell_type": "code",
      "source": [
        "train.columns"
      ],
      "metadata": {
        "colab": {
          "base_uri": "https://localhost:8080/"
        },
        "id": "XkP5aOgKZ8Ul",
        "outputId": "6803d208-bb25-42d3-89e7-38b3af82fef1"
      },
      "execution_count": null,
      "outputs": [
        {
          "output_type": "execute_result",
          "data": {
            "text/plain": [
              "Index(['row_id', 'date', 'country', 'store', 'product', 'num_sold',\n",
              "       'country_label', 'store_label', 'product_label', 'year', 'month',\n",
              "       'week', 'day', 'quarter', 'dayofyear', 'weekend', 'weekday', 'holiday',\n",
              "       'special_dates', 'is_holiday', 'is_special_dates'],\n",
              "      dtype='object')"
            ]
          },
          "metadata": {},
          "execution_count": 73
        }
      ]
    },
    {
      "cell_type": "markdown",
      "source": [
        "### target"
      ],
      "metadata": {
        "id": "465nqwsx5NlV"
      }
    },
    {
      "cell_type": "code",
      "source": [
        "sns.histplot(data=train,x='num_sold')"
      ],
      "metadata": {
        "colab": {
          "base_uri": "https://localhost:8080/",
          "height": 300
        },
        "id": "wxgOUDy849p0",
        "outputId": "c530b4f3-0469-4801-c43e-d9645185e13c"
      },
      "execution_count": 27,
      "outputs": [
        {
          "output_type": "execute_result",
          "data": {
            "text/plain": [
              "<matplotlib.axes._subplots.AxesSubplot at 0x7f802c9ef8d0>"
            ]
          },
          "metadata": {},
          "execution_count": 27
        },
        {
          "output_type": "display_data",
          "data": {
            "image/png": "[encoded data removed]",
            "text/plain": [
              "<Figure size 432x288 with 1 Axes>"
            ]
          },
          "metadata": {
            "needs_background": "light"
          }
        }
      ]
    },
    {
      "cell_type": "code",
      "source": [
        "sns.boxplot(data=train,x='num_sold')"
      ],
      "metadata": {
        "colab": {
          "base_uri": "https://localhost:8080/",
          "height": 300
        },
        "id": "cE1R705b5-nt",
        "outputId": "fe655e91-49d5-46b7-b26e-20445a3f45b0"
      },
      "execution_count": null,
      "outputs": [
        {
          "output_type": "execute_result",
          "data": {
            "text/plain": [
              "<matplotlib.axes._subplots.AxesSubplot at 0x7f2e3a4f7290>"
            ]
          },
          "metadata": {},
          "execution_count": 69
        },
        {
          "output_type": "display_data",
          "data": {
            "image/png": "[encoded data removed]",
            "text/plain": [
              "<Figure size 432x288 with 1 Axes>"
            ]
          },
          "metadata": {}
        }
      ]
    },
    {
      "cell_type": "markdown",
      "source": [
        "### year,month,day"
      ],
      "metadata": {
        "id": "nQ6v88Vb5ifp"
      }
    },
    {
      "cell_type": "code",
      "source": [
        "print(train['date'].max())\n",
        "print(train['date'].min())"
      ],
      "metadata": {
        "colab": {
          "base_uri": "https://localhost:8080/"
        },
        "id": "jL-W2fp14Mdf",
        "outputId": "d0114ac2-0127-4878-d741-acb1ed7906b9"
      },
      "execution_count": null,
      "outputs": [
        {
          "output_type": "stream",
          "name": "stdout",
          "text": [
            "2018-12-31 00:00:00\n",
            "2015-01-01 00:00:00\n"
          ]
        }
      ]
    },
    {
      "cell_type": "code",
      "source": [
        "train['year'].value_counts()"
      ],
      "metadata": {
        "colab": {
          "base_uri": "https://localhost:8080/"
        },
        "id": "KClOpj_P4r3b",
        "outputId": "7963be4a-8503-444e-ece6-f5c5087055b0"
      },
      "execution_count": null,
      "outputs": [
        {
          "output_type": "execute_result",
          "data": {
            "text/plain": [
              "2016    6588\n",
              "2015    6570\n",
              "2018    6570\n",
              "2017    6570\n",
              "Name: year, dtype: int64"
            ]
          },
          "metadata": {},
          "execution_count": 71
        }
      ]
    },
    {
      "cell_type": "code",
      "source": [
        "sns.countplot(data=train,x='year')"
      ],
      "metadata": {
        "colab": {
          "base_uri": "https://localhost:8080/",
          "height": 300
        },
        "id": "b3RZQTmU40Wy",
        "outputId": "add9bbee-e8d4-4f02-cd3a-93aa29f9da7d"
      },
      "execution_count": null,
      "outputs": [
        {
          "output_type": "execute_result",
          "data": {
            "text/plain": [
              "<matplotlib.axes._subplots.AxesSubplot at 0x7f2e3a46a510>"
            ]
          },
          "metadata": {},
          "execution_count": 72
        },
        {
          "output_type": "display_data",
          "data": {
            "image/png": "[encoded data removed]",
            "text/plain": [
              "<Figure size 432x288 with 1 Axes>"
            ]
          },
          "metadata": {}
        }
      ]
    },
    {
      "cell_type": "code",
      "source": [
        "sns.countplot(data=train,x='month')"
      ],
      "metadata": {
        "colab": {
          "base_uri": "https://localhost:8080/",
          "height": 300
        },
        "id": "s8ndEDz75LDL",
        "outputId": "e76b9127-d06b-43fd-a103-a91cb0849b5b"
      },
      "execution_count": null,
      "outputs": [
        {
          "output_type": "execute_result",
          "data": {
            "text/plain": [
              "<matplotlib.axes._subplots.AxesSubplot at 0x7fc92eca3c90>"
            ]
          },
          "metadata": {},
          "execution_count": 89
        },
        {
          "output_type": "display_data",
          "data": {
            "image/png": "[encoded data removed]",
            "text/plain": [
              "<Figure size 432x288 with 1 Axes>"
            ]
          },
          "metadata": {}
        }
      ]
    },
    {
      "cell_type": "code",
      "source": [
        "sns.countplot(data=train,x='day')"
      ],
      "metadata": {
        "colab": {
          "base_uri": "https://localhost:8080/",
          "height": 300
        },
        "id": "rdJFEUzY5ulx",
        "outputId": "5800a80f-55d0-4411-f87c-78190518df2c"
      },
      "execution_count": null,
      "outputs": [
        {
          "output_type": "execute_result",
          "data": {
            "text/plain": [
              "<matplotlib.axes._subplots.AxesSubplot at 0x7fc92ec02c10>"
            ]
          },
          "metadata": {},
          "execution_count": 90
        },
        {
          "output_type": "display_data",
          "data": {
            "image/png": "[encoded data removed]",
            "text/plain": [
              "<Figure size 432x288 with 1 Axes>"
            ]
          },
          "metadata": {}
        }
      ]
    },
    {
      "cell_type": "code",
      "source": [
        "sns.countplot(data=train,x='weekday')"
      ],
      "metadata": {
        "colab": {
          "base_uri": "https://localhost:8080/",
          "height": 300
        },
        "id": "EsgF_RHW7kRm",
        "outputId": "4c16fa57-96dd-4548-b87b-803695f0b702"
      },
      "execution_count": null,
      "outputs": [
        {
          "output_type": "execute_result",
          "data": {
            "text/plain": [
              "<matplotlib.axes._subplots.AxesSubplot at 0x7fc92eac1510>"
            ]
          },
          "metadata": {},
          "execution_count": 91
        },
        {
          "output_type": "display_data",
          "data": {
            "image/png": "[encoded data removed]",
            "text/plain": [
              "<Figure size 432x288 with 1 Axes>"
            ]
          },
          "metadata": {}
        }
      ]
    },
    {
      "cell_type": "code",
      "source": [
        "train['weekday'].value_counts()"
      ],
      "metadata": {
        "colab": {
          "base_uri": "https://localhost:8080/"
        },
        "id": "kyrn0io17oJL",
        "outputId": "f15b6c41-6c47-4561-b878-7a8ef396d80f"
      },
      "execution_count": null,
      "outputs": [
        {
          "output_type": "execute_result",
          "data": {
            "text/plain": [
              "6    3762\n",
              "5    3762\n",
              "4    3762\n",
              "3    3762\n",
              "0    3762\n",
              "2    3744\n",
              "1    3744\n",
              "Name: weekday, dtype: int64"
            ]
          },
          "metadata": {},
          "execution_count": 92
        }
      ]
    },
    {
      "cell_type": "code",
      "source": [
        "train.groupby('year').sum()['num_sold'].plot()"
      ],
      "metadata": {
        "colab": {
          "base_uri": "https://localhost:8080/",
          "height": 311
        },
        "id": "l6lsEBZ97wBn",
        "outputId": "e5edf20b-2887-45b8-c40a-824fd6db84f9"
      },
      "execution_count": null,
      "outputs": [
        {
          "output_type": "execute_result",
          "data": {
            "text/plain": [
              "<matplotlib.axes._subplots.AxesSubplot at 0x7fc92eab0890>"
            ]
          },
          "metadata": {},
          "execution_count": 93
        },
        {
          "output_type": "display_data",
          "data": {
            "image/png": "[encoded data removed]",
            "text/plain": [
              "<Figure size 432x288 with 1 Axes>"
            ]
          },
          "metadata": {}
        }
      ]
    },
    {
      "cell_type": "markdown",
      "source": [
        "\n",
        "As the years go by, sales are increasing."
      ],
      "metadata": {
        "id": "djQSsEMq8hc2"
      }
    },
    {
      "cell_type": "code",
      "source": [
        "train.groupby('month').sum()['num_sold'].plot()"
      ],
      "metadata": {
        "colab": {
          "base_uri": "https://localhost:8080/",
          "height": 311
        },
        "id": "iUYqP4zx8Hsl",
        "outputId": "eb38caed-f62a-4c06-e366-23c7c8d2fd01"
      },
      "execution_count": null,
      "outputs": [
        {
          "output_type": "execute_result",
          "data": {
            "text/plain": [
              "<matplotlib.axes._subplots.AxesSubplot at 0x7fc92ea59750>"
            ]
          },
          "metadata": {},
          "execution_count": 94
        },
        {
          "output_type": "display_data",
          "data": {
            "image/png": "[encoded data removed]",
            "text/plain": [
              "<Figure size 432x288 with 1 Axes>"
            ]
          },
          "metadata": {}
        }
      ]
    },
    {
      "cell_type": "markdown",
      "source": [
        "\n",
        "In April, sales were quite high and then dropped. And December has the highest sales."
      ],
      "metadata": {
        "id": "V3yug67c9VTp"
      }
    },
    {
      "cell_type": "code",
      "source": [
        "train.groupby('day').sum()['num_sold'].plot()"
      ],
      "metadata": {
        "colab": {
          "base_uri": "https://localhost:8080/",
          "height": 301
        },
        "id": "7YdbIpoQ8LFS",
        "outputId": "8490b770-453e-46ab-958f-4344f8d871c6"
      },
      "execution_count": null,
      "outputs": [
        {
          "output_type": "execute_result",
          "data": {
            "text/plain": [
              "<matplotlib.axes._subplots.AxesSubplot at 0x7fc92e949dd0>"
            ]
          },
          "metadata": {},
          "execution_count": 95
        },
        {
          "output_type": "display_data",
          "data": {
            "image/png": "[encoded data removed]",
            "text/plain": [
              "<Figure size 432x288 with 1 Axes>"
            ]
          },
          "metadata": {}
        }
      ]
    },
    {
      "cell_type": "markdown",
      "source": [
        "Sales peaked on the 28th, but then suddenly the sales plummeted."
      ],
      "metadata": {
        "id": "sP6bIdYM9kP2"
      }
    },
    {
      "cell_type": "code",
      "source": [
        "train.groupby('weekday').sum()['num_sold'].plot()"
      ],
      "metadata": {
        "colab": {
          "base_uri": "https://localhost:8080/",
          "height": 311
        },
        "id": "Y0XUgzSg8omA",
        "outputId": "09d2af6a-e178-4f2d-f637-acb709a6d921"
      },
      "execution_count": null,
      "outputs": [
        {
          "output_type": "execute_result",
          "data": {
            "text/plain": [
              "<matplotlib.axes._subplots.AxesSubplot at 0x7fc92e8c9d90>"
            ]
          },
          "metadata": {},
          "execution_count": 96
        },
        {
          "output_type": "display_data",
          "data": {
            "image/png": "[encoded data removed]",
            "text/plain": [
              "<Figure size 432x288 with 1 Axes>"
            ]
          },
          "metadata": {}
        }
      ]
    },
    {
      "cell_type": "markdown",
      "source": [
        "\n",
        "Weekends are also the busiest."
      ],
      "metadata": {
        "id": "V__UEnoC927E"
      }
    },
    {
      "cell_type": "code",
      "source": [
        "plt.figure(figsize=(10,5))\n",
        "sns.lineplot(data=train,\n",
        "             x='day',\n",
        "             y='num_sold',\n",
        "             hue='year',\n",
        "             style='product',\n",
        "             legend='full',ci=None)"
      ],
      "metadata": {
        "colab": {
          "base_uri": "https://localhost:8080/",
          "height": 355
        },
        "id": "qCA6Set6--t0",
        "outputId": "6fc083f7-a361-4f27-94dc-bc1e3b8f3fbd"
      },
      "execution_count": null,
      "outputs": [
        {
          "output_type": "execute_result",
          "data": {
            "text/plain": [
              "<matplotlib.axes._subplots.AxesSubplot at 0x7fc92efbb1d0>"
            ]
          },
          "metadata": {},
          "execution_count": 97
        },
        {
          "output_type": "display_data",
          "data": {
            "image/png": "[encoded data removed]",
            "text/plain": [
              "<Figure size 720x360 with 1 Axes>"
            ]
          },
          "metadata": {}
        }
      ]
    },
    {
      "cell_type": "markdown",
      "source": [
        "### country"
      ],
      "metadata": {
        "id": "_mg6gtLF6GBJ"
      }
    },
    {
      "cell_type": "code",
      "source": [
        "train['country'].value_counts()"
      ],
      "metadata": {
        "colab": {
          "base_uri": "https://localhost:8080/"
        },
        "id": "wzVunatj5xt5",
        "outputId": "6a327a6f-7298-4c93-94d5-7f632dca4bf3"
      },
      "execution_count": null,
      "outputs": [
        {
          "output_type": "execute_result",
          "data": {
            "text/plain": [
              "Norway     8766\n",
              "Sweden     8766\n",
              "Finland    8766\n",
              "Name: country, dtype: int64"
            ]
          },
          "metadata": {},
          "execution_count": 26
        }
      ]
    },
    {
      "cell_type": "code",
      "source": [
        "a=train.groupby('country').sum()['num_sold']\n",
        "a"
      ],
      "metadata": {
        "colab": {
          "base_uri": "https://localhost:8080/"
        },
        "id": "YaIYxeyh68wI",
        "outputId": "b6bc1c55-dcb3-4c16-b0dd-961e8259536b"
      },
      "execution_count": null,
      "outputs": [
        {
          "output_type": "execute_result",
          "data": {
            "text/plain": [
              "country\n",
              "Finland    2680927\n",
              "Norway     4404706\n",
              "Sweden     3105725\n",
              "Name: num_sold, dtype: int64"
            ]
          },
          "metadata": {},
          "execution_count": 111
        }
      ]
    },
    {
      "cell_type": "code",
      "source": [
        "label=a.index\n",
        "index=np.arange(len(label))\n",
        "plt.bar(index,a)\n",
        "plt.xticks(index,label)\n",
        "plt.title('Sales by country')"
      ],
      "metadata": {
        "colab": {
          "base_uri": "https://localhost:8080/",
          "height": 300
        },
        "id": "56KedXBxBB0F",
        "outputId": "c0f594de-f0b8-4618-a0f3-7cfc99b22587"
      },
      "execution_count": null,
      "outputs": [
        {
          "output_type": "execute_result",
          "data": {
            "text/plain": [
              "Text(0.5, 1.0, 'Sales by country')"
            ]
          },
          "metadata": {},
          "execution_count": 113
        },
        {
          "output_type": "display_data",
          "data": {
            "image/png": "[encoded data removed]",
            "text/plain": [
              "<Figure size 432x288 with 1 Axes>"
            ]
          },
          "metadata": {}
        }
      ]
    },
    {
      "cell_type": "markdown",
      "source": [
        "\n",
        "Sales by country"
      ],
      "metadata": {
        "id": "nF7om2p_Aglk"
      }
    },
    {
      "cell_type": "markdown",
      "source": [
        "## store"
      ],
      "metadata": {
        "id": "bQCNUdy4C5NF"
      }
    },
    {
      "cell_type": "code",
      "source": [
        "train['store'].value_counts()"
      ],
      "metadata": {
        "colab": {
          "base_uri": "https://localhost:8080/"
        },
        "id": "FHywkNFL6NiL",
        "outputId": "97354254-436b-4146-ca37-ca6a528b6760"
      },
      "execution_count": null,
      "outputs": [
        {
          "output_type": "execute_result",
          "data": {
            "text/plain": [
              "KaggleRama    13149\n",
              "KaggleMart    13149\n",
              "Name: store, dtype: int64"
            ]
          },
          "metadata": {},
          "execution_count": 27
        }
      ]
    },
    {
      "cell_type": "code",
      "source": [
        "b=train.groupby(['country','store']).sum()['num_sold'].reset_index()\n",
        "b"
      ],
      "metadata": {
        "colab": {
          "base_uri": "https://localhost:8080/",
          "height": 238
        },
        "id": "PV-q4A3ZC7IK",
        "outputId": "2b091880-8540-4d33-c9c1-ed0e09cccd70"
      },
      "execution_count": null,
      "outputs": [
        {
          "output_type": "execute_result",
          "data": {
            "text/html": [
              "\n",
              "  <div id=\"df-cb6de5a4-b30b-4169-8b10-7893912019a3\">\n",
              "    <div class=\"colab-df-container\">\n",
              "      <div>\n",
              "<style scoped>\n",
              "    .dataframe tbody tr th:only-of-type {\n",
              "        vertical-align: middle;\n",
              "    }\n",
              "\n",
              "    .dataframe tbody tr th {\n",
              "        vertical-align: top;\n",
              "    }\n",
              "\n",
              "    .dataframe thead th {\n",
              "        text-align: right;\n",
              "    }\n",
              "</style>\n",
              "<table border=\"1\" class=\"dataframe\">\n",
              "  <thead>\n",
              "    <tr style=\"text-align: right;\">\n",
              "      <th></th>\n",
              "      <th>country</th>\n",
              "      <th>store</th>\n",
              "      <th>num_sold</th>\n",
              "    </tr>\n",
              "  </thead>\n",
              "  <tbody>\n",
              "    <tr>\n",
              "      <th>0</th>\n",
              "      <td>Finland</td>\n",
              "      <td>KaggleMart</td>\n",
              "      <td>978468</td>\n",
              "    </tr>\n",
              "    <tr>\n",
              "      <th>1</th>\n",
              "      <td>Finland</td>\n",
              "      <td>KaggleRama</td>\n",
              "      <td>1702459</td>\n",
              "    </tr>\n",
              "    <tr>\n",
              "      <th>2</th>\n",
              "      <td>Norway</td>\n",
              "      <td>KaggleMart</td>\n",
              "      <td>1605045</td>\n",
              "    </tr>\n",
              "    <tr>\n",
              "      <th>3</th>\n",
              "      <td>Norway</td>\n",
              "      <td>KaggleRama</td>\n",
              "      <td>2799661</td>\n",
              "    </tr>\n",
              "    <tr>\n",
              "      <th>4</th>\n",
              "      <td>Sweden</td>\n",
              "      <td>KaggleMart</td>\n",
              "      <td>1131855</td>\n",
              "    </tr>\n",
              "    <tr>\n",
              "      <th>5</th>\n",
              "      <td>Sweden</td>\n",
              "      <td>KaggleRama</td>\n",
              "      <td>1973870</td>\n",
              "    </tr>\n",
              "  </tbody>\n",
              "</table>\n",
              "</div>\n",
              "      <button class=\"colab-df-convert\" onclick=\"convertToInteractive('df-cb6de5a4-b30b-4169-8b10-7893912019a3')\"\n",
              "              title=\"Convert this dataframe to an interactive table.\"\n",
              "              style=\"display:none;\">\n",
              "        \n",
              "  <svg xmlns=\"http://www.w3.org/2000/svg\" height=\"24px\"viewBox=\"0 0 24 24\"\n",
              "       width=\"24px\">\n",
              "    <path d=\"M0 0h24v24H0V0z\" fill=\"none\"/>\n",
              "    <path d=\"M18.56 5.44l.94 2.06.94-2.06 2.06-.94-2.06-.94-.94-2.06-.94 2.06-2.06.94zm-11 1L8.5 8.5l.94-2.06 2.06-.94-2.06-.94L8.5 2.5l-.94 2.06-2.06.94zm10 10l.94 2.06.94-2.06 2.06-.94-2.06-.94-.94-2.06-.94 2.06-2.06.94z\"/><path d=\"M17.41 7.96l-1.37-1.37c-.4-.4-.92-.59-1.43-.59-.52 0-1.04.2-1.43.59L10.3 9.45l-7.72 7.72c-.78.78-.78 2.05 0 2.83L4 21.41c.39.39.9.59 1.41.59.51 0 1.02-.2 1.41-.59l7.78-7.78 2.81-2.81c.8-.78.8-2.07 0-2.86zM5.41 20L4 18.59l7.72-7.72 1.47 1.35L5.41 20z\"/>\n",
              "  </svg>\n",
              "      </button>\n",
              "      \n",
              "  <style>\n",
              "    .colab-df-container {\n",
              "      display:flex;\n",
              "      flex-wrap:wrap;\n",
              "      gap: 12px;\n",
              "    }\n",
              "\n",
              "    .colab-df-convert {\n",
              "      background-color: #E8F0FE;\n",
              "      border: none;\n",
              "      border-radius: 50%;\n",
              "      cursor: pointer;\n",
              "      display: none;\n",
              "      fill: #1967D2;\n",
              "      height: 32px;\n",
              "      padding: 0 0 0 0;\n",
              "      width: 32px;\n",
              "    }\n",
              "\n",
              "    .colab-df-convert:hover {\n",
              "      background-color: #E2EBFA;\n",
              "      box-shadow: 0px 1px 2px rgba(60, 64, 67, 0.3), 0px 1px 3px 1px rgba(60, 64, 67, 0.15);\n",
              "      fill: #174EA6;\n",
              "    }\n",
              "\n",
              "    [theme=dark] .colab-df-convert {\n",
              "      background-color: #3B4455;\n",
              "      fill: #D2E3FC;\n",
              "    }\n",
              "\n",
              "    [theme=dark] .colab-df-convert:hover {\n",
              "      background-color: #434B5C;\n",
              "      box-shadow: 0px 1px 3px 1px rgba(0, 0, 0, 0.15);\n",
              "      filter: drop-shadow(0px 1px 2px rgba(0, 0, 0, 0.3));\n",
              "      fill: #FFFFFF;\n",
              "    }\n",
              "  </style>\n",
              "\n",
              "      <script>\n",
              "        const buttonEl =\n",
              "          document.querySelector('#df-cb6de5a4-b30b-4169-8b10-7893912019a3 button.colab-df-convert');\n",
              "        buttonEl.style.display =\n",
              "          google.colab.kernel.accessAllowed ? 'block' : 'none';\n",
              "\n",
              "        async function convertToInteractive(key) {\n",
              "          const element = document.querySelector('#df-cb6de5a4-b30b-4169-8b10-7893912019a3');\n",
              "          const dataTable =\n",
              "            await google.colab.kernel.invokeFunction('convertToInteractive',\n",
              "                                                     [key], {});\n",
              "          if (!dataTable) return;\n",
              "\n",
              "          const docLinkHtml = 'Like what you see? Visit the ' +\n",
              "            '<a target=\"_blank\" href=https://colab.research.google.com/notebooks/data_table.ipynb>data table notebook</a>'\n",
              "            + ' to learn more about interactive tables.';\n",
              "          element.innerHTML = '';\n",
              "          dataTable['output_type'] = 'display_data';\n",
              "          await google.colab.output.renderOutput(dataTable, element);\n",
              "          const docLink = document.createElement('div');\n",
              "          docLink.innerHTML = docLinkHtml;\n",
              "          element.appendChild(docLink);\n",
              "        }\n",
              "      </script>\n",
              "    </div>\n",
              "  </div>\n",
              "  "
            ],
            "text/plain": [
              "   country       store  num_sold\n",
              "0  Finland  KaggleMart    978468\n",
              "1  Finland  KaggleRama   1702459\n",
              "2   Norway  KaggleMart   1605045\n",
              "3   Norway  KaggleRama   2799661\n",
              "4   Sweden  KaggleMart   1131855\n",
              "5   Sweden  KaggleRama   1973870"
            ]
          },
          "metadata": {},
          "execution_count": 124
        }
      ]
    },
    {
      "cell_type": "code",
      "source": [
        "sns.barplot(x='country', y='num_sold', hue='store',data=b )"
      ],
      "metadata": {
        "colab": {
          "base_uri": "https://localhost:8080/",
          "height": 311
        },
        "id": "BrilBSTzD42g",
        "outputId": "477f0712-1072-497a-9223-c507f7be7b06"
      },
      "execution_count": null,
      "outputs": [
        {
          "output_type": "execute_result",
          "data": {
            "text/plain": [
              "<matplotlib.axes._subplots.AxesSubplot at 0x7fc92e01c4d0>"
            ]
          },
          "metadata": {},
          "execution_count": 126
        },
        {
          "output_type": "display_data",
          "data": {
            "image/png": "[encoded data removed]",
            "text/plain": [
              "<Figure size 432x288 with 1 Axes>"
            ]
          },
          "metadata": {}
        }
      ]
    },
    {
      "cell_type": "markdown",
      "source": [
        "### product"
      ],
      "metadata": {
        "id": "sxKBC6Dv6ZTA"
      }
    },
    {
      "cell_type": "code",
      "source": [
        "train['product'].value_counts()"
      ],
      "metadata": {
        "colab": {
          "base_uri": "https://localhost:8080/"
        },
        "id": "s3Z0Gori6Vof",
        "outputId": "dd249eac-0b45-49e8-a1e0-9856157d911a"
      },
      "execution_count": null,
      "outputs": [
        {
          "output_type": "execute_result",
          "data": {
            "text/plain": [
              "Kaggle Sticker    8766\n",
              "Kaggle Mug        8766\n",
              "Kaggle Hat        8766\n",
              "Name: product, dtype: int64"
            ]
          },
          "metadata": {},
          "execution_count": 28
        }
      ]
    },
    {
      "cell_type": "code",
      "source": [
        "train.groupby(['country','store','product']).sum()['num_sold']"
      ],
      "metadata": {
        "colab": {
          "base_uri": "https://localhost:8080/"
        },
        "id": "6lbDsfMkEKEl",
        "outputId": "3dc2f638-39d2-425f-9b1a-125e879e362b"
      },
      "execution_count": null,
      "outputs": [
        {
          "output_type": "execute_result",
          "data": {
            "text/plain": [
              "country  store       product       \n",
              "Finland  KaggleMart  Kaggle Hat         529583\n",
              "                     Kaggle Mug         298337\n",
              "                     Kaggle Sticker     150548\n",
              "         KaggleRama  Kaggle Hat         918862\n",
              "                     Kaggle Mug         520278\n",
              "                     Kaggle Sticker     263319\n",
              "Norway   KaggleMart  Kaggle Hat         868777\n",
              "                     Kaggle Mug         488515\n",
              "                     Kaggle Sticker     247753\n",
              "         KaggleRama  Kaggle Hat        1514119\n",
              "                     Kaggle Mug         853659\n",
              "                     Kaggle Sticker     431883\n",
              "Sweden   KaggleMart  Kaggle Hat         612472\n",
              "                     Kaggle Mug         344628\n",
              "                     Kaggle Sticker     174755\n",
              "         KaggleRama  Kaggle Hat        1068652\n",
              "                     Kaggle Mug         600870\n",
              "                     Kaggle Sticker     304348\n",
              "Name: num_sold, dtype: int64"
            ]
          },
          "metadata": {},
          "execution_count": 131
        }
      ]
    },
    {
      "cell_type": "code",
      "source": [
        "c=train.groupby(['product','month']).sum()['num_sold'].reset_index()\n",
        "plt.figure(figsize=(10,6))\n",
        "sns.lineplot(x='month', y='num_sold', hue='product',data=c )"
      ],
      "metadata": {
        "colab": {
          "base_uri": "https://localhost:8080/",
          "height": 409
        },
        "id": "XrWilo-EFjkO",
        "outputId": "38c82a57-c946-4e50-c1cb-23dd8764d32f"
      },
      "execution_count": null,
      "outputs": [
        {
          "output_type": "execute_result",
          "data": {
            "text/plain": [
              "<matplotlib.axes._subplots.AxesSubplot at 0x7fc92ee7ecd0>"
            ]
          },
          "metadata": {},
          "execution_count": 144
        },
        {
          "output_type": "display_data",
          "data": {
            "image/png": "[encoded data removed]",
            "text/plain": [
              "<Figure size 720x432 with 1 Axes>"
            ]
          },
          "metadata": {}
        }
      ]
    },
    {
      "cell_type": "markdown",
      "source": [
        "\n",
        "It seems that hats sell a lot in summer and mugs sell a lot in winter. Stickers sell a lot at the end of the year."
      ],
      "metadata": {
        "id": "7uwvMiGkHeEb"
      }
    },
    {
      "cell_type": "markdown",
      "source": [
        "## pytrend"
      ],
      "metadata": {
        "id": "6M0CagK163JM"
      }
    },
    {
      "cell_type": "code",
      "source": [
        "!pip install -q pytrends"
      ],
      "metadata": {
        "id": "jFbxNcvw4BlN"
      },
      "execution_count": null,
      "outputs": []
    },
    {
      "cell_type": "code",
      "source": [
        "from pytrends.request import TrendReq\n",
        "\n",
        "dates='2015-01-01 2019-12-31'\n",
        "kw_list=['kaggle']"
      ],
      "metadata": {
        "id": "C0vA8LA_4Cg_"
      },
      "execution_count": null,
      "outputs": []
    },
    {
      "cell_type": "markdown",
      "source": [
        "## Finland"
      ],
      "metadata": {
        "id": "pVchI6OB4v9O"
      }
    },
    {
      "cell_type": "code",
      "source": [
        "pytrends=TrendReq(geo='FI')\n",
        "pytrends.build_payload(kw_list=kw_list,timeframe=dates)\n",
        "Finland_df=pytrends.interest_over_time()\n",
        "Finland_df.plot(y=kw_list,kind='line',figsize=(15,5),lw=2,title='Kaggle in Finland');"
      ],
      "metadata": {
        "colab": {
          "base_uri": "https://localhost:8080/",
          "height": 350
        },
        "id": "RKK5qH3M4zNm",
        "outputId": "b8fc404f-618f-462f-e429-6ab1ed097313"
      },
      "execution_count": null,
      "outputs": [
        {
          "output_type": "display_data",
          "data": {
            "image/png": "[encoded data removed]",
            "text/plain": [
              "<Figure size 1080x360 with 1 Axes>"
            ]
          },
          "metadata": {
            "needs_background": "light"
          }
        }
      ]
    },
    {
      "cell_type": "code",
      "source": [
        "pytrends=TrendReq(geo='NO')\n",
        "pytrends.build_payload(kw_list=kw_list,timeframe=dates)\n",
        "Finland_df=pytrends.interest_over_time()\n",
        "Finland_df.plot(y=kw_list,kind='line',figsize=(15,5),lw=2,title='Kaggle in Norway');"
      ],
      "metadata": {
        "colab": {
          "base_uri": "https://localhost:8080/",
          "height": 350
        },
        "id": "QJitvkef5NHS",
        "outputId": "a24c4572-b184-46e5-e848-403802a7e637"
      },
      "execution_count": null,
      "outputs": [
        {
          "output_type": "display_data",
          "data": {
            "image/png": "[encoded data removed]",
            "text/plain": [
              "<Figure size 1080x360 with 1 Axes>"
            ]
          },
          "metadata": {
            "needs_background": "light"
          }
        }
      ]
    },
    {
      "cell_type": "code",
      "source": [
        "pytrends = TrendReq(geo='SE')\n",
        "pytrends.build_payload(kw_list=kw_list, timeframe=dates)\n",
        "Sweden_df = pytrends.interest_over_time()\n",
        "Sweden_df.plot(y=kw_list, kind='line',figsize=(15,5), lw=2, title=\"Kaggle in Sweden\");"
      ],
      "metadata": {
        "colab": {
          "base_uri": "https://localhost:8080/",
          "height": 350
        },
        "id": "kEUZhHc75l_0",
        "outputId": "ff239303-ba8a-4c00-a087-77f0f71d1e2a"
      },
      "execution_count": null,
      "outputs": [
        {
          "output_type": "display_data",
          "data": {
            "image/png": "[encoded data removed]",
            "text/plain": [
              "<Figure size 1080x360 with 1 Axes>"
            ]
          },
          "metadata": {
            "needs_background": "light"
          }
        }
      ]
    },
    {
      "cell_type": "code",
      "source": [
        "pytrends = TrendReq(hl='en-US', tz=360)\n",
        "pytrends.build_payload(kw_list=kw_list, timeframe=dates)\n",
        "Worldwide_df = pytrends.interest_over_time()\n",
        "Worldwide_df.plot(y=kw_list, kind='line',figsize=(15,5), lw=2, title=\"Kaggle worldwide\");"
      ],
      "metadata": {
        "colab": {
          "base_uri": "https://localhost:8080/",
          "height": 350
        },
        "id": "YwA3GJTL6n-h",
        "outputId": "b5e0d843-9cb3-4032-ae06-cf33ca742745"
      },
      "execution_count": null,
      "outputs": [
        {
          "output_type": "display_data",
          "data": {
            "image/png": "[encoded data removed]",
            "text/plain": [
              "<Figure size 1080x360 with 1 Axes>"
            ]
          },
          "metadata": {
            "needs_background": "light"
          }
        }
      ]
    },
    {
      "cell_type": "markdown",
      "source": [
        "## 데이터 전처리\n",
        "\n",
        "- 필요없는 값 삭제 ( id, date)\n",
        "- 범주형 데이터는 원핫 인코딩으로 처리하는게 좋을 듯 \n"
      ],
      "metadata": {
        "id": "vNnsvMYO6gKk"
      }
    },
    {
      "cell_type": "code",
      "source": [
        "train_dum=train_dum.drop(['row_id','date'],axis=1)\n",
        "test_dum=test_dum.drop(['row_id','date'],axis=1)"
      ],
      "metadata": {
        "id": "hfszmFwi7KeH"
      },
      "execution_count": 28,
      "outputs": []
    },
    {
      "cell_type": "code",
      "source": [
        "X_train=train_dum.drop('num_sold',axis=1)\n",
        "y_train=train_dum['num_sold']\n",
        "X_test=test_dum"
      ],
      "metadata": {
        "id": "hBWnbfso8DU8"
      },
      "execution_count": 29,
      "outputs": []
    },
    {
      "cell_type": "code",
      "source": [
        "print(X_train.shape)\n",
        "print(y_train.shape)\n",
        "print(X_test.shape)"
      ],
      "metadata": {
        "colab": {
          "base_uri": "https://localhost:8080/"
        },
        "id": "4RBZLN0b8DXY",
        "outputId": "2ed94029-5c2b-4e4e-f88c-8aff597fa693"
      },
      "execution_count": 39,
      "outputs": [
        {
          "output_type": "stream",
          "name": "stdout",
          "text": [
            "(26298, 21)\n",
            "(26298,)\n",
            "(6570, 21)\n"
          ]
        }
      ]
    },
    {
      "cell_type": "code",
      "source": [
        "X_train=X_train.drop(['holiday','special_dates'],axis=1)\n"
      ],
      "metadata": {
        "id": "xpYbPZTh8DZ4"
      },
      "execution_count": null,
      "outputs": []
    },
    {
      "cell_type": "code",
      "source": [
        "X_test=X_test.drop(['holiday','special_dates'],axis=1)"
      ],
      "metadata": {
        "id": "Is1Z_ZhE-Tk-"
      },
      "execution_count": 38,
      "outputs": []
    },
    {
      "cell_type": "markdown",
      "source": [
        "## 모델링\n",
        "\n",
        "- RandomForestRegressor\n",
        "- XGBoost regressor"
      ],
      "metadata": {
        "id": "YI1oX32MCAOn"
      }
    },
    {
      "cell_type": "code",
      "source": [
        "from sklearn.ensemble import RandomForestRegressor\n",
        "\n",
        "rf=RandomForestRegressor()\n",
        "rf.fit(X_train,y_train)\n",
        "rf_pred=rf.predict(X_test)\n",
        "\n"
      ],
      "metadata": {
        "id": "D2prTFWjCuAq"
      },
      "execution_count": null,
      "outputs": []
    },
    {
      "cell_type": "code",
      "source": [
        "from xgboost import XGBRegressor\n",
        "\n",
        "xgb=XGBRegressor()\n",
        "xgb.fit(X_train,y_train)\n",
        "xgb_pred=xgb.predict(X_test)"
      ],
      "metadata": {
        "colab": {
          "base_uri": "https://localhost:8080/"
        },
        "id": "sqrhEK4PEVOq",
        "outputId": "58d53acf-cb18-48fa-9772-0c72250ed9c6"
      },
      "execution_count": null,
      "outputs": [
        {
          "output_type": "stream",
          "name": "stdout",
          "text": [
            "[13:56:35] WARNING: /workspace/src/objective/regression_obj.cu:152: reg:linear is now deprecated in favor of reg:squarederror.\n"
          ]
        }
      ]
    },
    {
      "cell_type": "code",
      "source": [
        "xgb_submit=sample.copy()\n",
        "xgb_submit['num_sold']=xgb_pred\n",
        "xgb_submit.to_csv('xgb.csv')"
      ],
      "metadata": {
        "id": "3vg_CtQ2Exd7"
      },
      "execution_count": null,
      "outputs": []
    },
    {
      "cell_type": "code",
      "source": [
        "rf_submit=sample.copy()\n",
        "rf_submit['num_sold']=rf_pred\n",
        "rf_submit.to_csv('rf.csv')"
      ],
      "metadata": {
        "id": "gGQSLygmE9fq"
      },
      "execution_count": null,
      "outputs": []
    },
    {
      "cell_type": "markdown",
      "source": [
        "## 하이퍼파라미터 튜닝"
      ],
      "metadata": {
        "id": "hYNQEtBeKEQF"
      }
    },
    {
      "cell_type": "code",
      "source": [
        "from sklearn.model_selection import GridSearchCV\n",
        "from sklearn.ensemble import RandomForestRegressor\n",
        "\n",
        "params={\n",
        "    'n_estimators':[100,500],\n",
        "    'max_depth':[6,8,10,12],\n",
        "    'min_samples_leaf':[8,12,18],\n",
        "    'min_samples_split':[8,16,20]\n",
        "}\n",
        "\n",
        "rf_clf=RandomForestRegressor(random_state=0,n_jobs=-1)\n",
        "grid_cv=GridSearchCV(rf_clf,param_grid=params,cv=3,n_jobs=-1)\n",
        "grid_cv.fit(X_train,y_train)\n",
        "\n",
        "print(\"최적 하이퍼 파라미터: \",grid_cv.best_params_)\n",
        "print(\"최고 예측 정확도 : \",grid_cv.best_score_)"
      ],
      "metadata": {
        "id": "mo2-uVx0FDz6",
        "colab": {
          "base_uri": "https://localhost:8080/"
        },
        "outputId": "da5a18ad-573f-490e-f866-4e34e24b34b1"
      },
      "execution_count": 40,
      "outputs": [
        {
          "output_type": "stream",
          "name": "stdout",
          "text": [
            "최적 하이퍼 파라미터:  {'max_depth': 12, 'min_samples_leaf': 8, 'min_samples_split': 8, 'n_estimators': 100}\n",
            "최고 예측 정확도 :  0.9459793486050666\n"
          ]
        }
      ]
    },
    {
      "cell_type": "code",
      "source": [
        "rf_clf=RandomForestRegressor(max_depth= 12, min_samples_leaf=8, min_samples_split=8, n_estimators=100)\n",
        "\n",
        "rf_clf.fit(X_train,y_train)\n",
        "rf_pred=rf_clf.predict(X_test)\n"
      ],
      "metadata": {
        "id": "YBhWYna6LmDn"
      },
      "execution_count": 41,
      "outputs": []
    },
    {
      "cell_type": "code",
      "source": [
        "import seaborn as sns\n",
        "import matplotlib.pyplot as plt\n",
        "%matplotlib inline\n",
        "\n",
        "ftr_importances_values=rf_clf.feature_importances_\n",
        "ftr_importances=pd.Series(ftr_importances_values,index=X_train.columns)\n",
        "ftr_top20=ftr_importances.sort_values(ascending=False)[:20]\n",
        "\n",
        "plt.figure(figsize=(8,6))\n",
        "plt.title(\"feature importances top20\")\n",
        "sns.barplot(x=ftr_top20,y=ftr_top20.index)\n",
        "plt.show()"
      ],
      "metadata": {
        "colab": {
          "base_uri": "https://localhost:8080/",
          "height": 391
        },
        "id": "CTZRvOYRPEzT",
        "outputId": "d3ab30ad-e36e-4c7f-fe25-0e1f2f9d4e6f"
      },
      "execution_count": 42,
      "outputs": [
        {
          "output_type": "display_data",
          "data": {
            "image/png": "[encoded data removed]",
            "text/plain": [
              "<Figure size 576x432 with 1 Axes>"
            ]
          },
          "metadata": {
            "needs_background": "light"
          }
        }
      ]
    },
    {
      "cell_type": "code",
      "source": [
        "rf_submit1=sample.copy()\n",
        "rf_submit1['num_sold']=rf_pred\n",
        "rf_submit1.to_csv('rf1.csv')"
      ],
      "metadata": {
        "id": "-U0QOrW_K9BR"
      },
      "execution_count": 43,
      "outputs": []
    },
    {
      "cell_type": "code",
      "source": [
        "from sklearn.model_selection import GridSearchCV\n",
        "from xgboost import XGBRegressor\n",
        "\n",
        "params={\n",
        "    'learning_rate':[0.01,0.05,0.1],\n",
        "    'n_estimators':[100,300,500],\n",
        "    'max_depth':[3,5,7],\n",
        "    'sub_sample':[0.3,0.5,1],\n",
        "    'colsample_bytree':[0.3,0.5,1],\n",
        "}\n",
        "\n",
        "\n",
        "xgb=XGBRegressor(random_state=0,n_jobs=-1)\n",
        "grid_cv=GridSearchCV(xgb,param_grid=params,cv=3,n_jobs=-1)\n",
        "grid_cv.fit(X_train,y_train)\n",
        "\n",
        "print(\"최적 하이퍼 파라미터: \",grid_cv.best_params_)\n",
        "print(\"최고 예측 정확도 : \",grid_cv.best_score_)"
      ],
      "metadata": {
        "colab": {
          "base_uri": "https://localhost:8080/"
        },
        "id": "_LYUfVXDOr-1",
        "outputId": "c8ee81ee-7cc8-4803-fc69-96c8d1c4ab33"
      },
      "execution_count": 44,
      "outputs": [
        {
          "output_type": "stream",
          "name": "stdout",
          "text": [
            "[17:11:33] WARNING: /workspace/src/objective/regression_obj.cu:152: reg:linear is now deprecated in favor of reg:squarederror.\n",
            "최적 하이퍼 파라미터:  {'colsample_bytree': 0.3, 'learning_rate': 0.05, 'max_depth': 5, 'n_estimators': 500, 'sub_sample': 0.3}\n",
            "최고 예측 정확도 :  0.9620305353890934\n"
          ]
        }
      ]
    },
    {
      "cell_type": "code",
      "source": [
        "xgb=XGBRegressor(colsample_bytree=0.3, learning_rate= 0.05, max_depth= 5, \n",
        "                 n_estimators= 500, sub_sample= 0.3)\n",
        "xgb.fit(X_train,y_train)\n",
        "xgb_pred=xgb.predict(X_test)"
      ],
      "metadata": {
        "colab": {
          "base_uri": "https://localhost:8080/"
        },
        "id": "vfF-wCK7Ql3r",
        "outputId": "a15a7761-0d97-4789-b441-a147ba68223f"
      },
      "execution_count": 45,
      "outputs": [
        {
          "output_type": "stream",
          "name": "stdout",
          "text": [
            "[17:12:31] WARNING: /workspace/src/objective/regression_obj.cu:152: reg:linear is now deprecated in favor of reg:squarederror.\n"
          ]
        }
      ]
    },
    {
      "cell_type": "code",
      "source": [
        "xgb_submit=sample.copy()\n",
        "xgb_submit['num_sold']=xgb_pred\n",
        "xgb_submit.to_csv('xgb1.csv')"
      ],
      "metadata": {
        "id": "yYSE6A_JXpQE"
      },
      "execution_count": 46,
      "outputs": []
    },
    {
      "cell_type": "code",
      "source": [
        "from xgboost import plot_importance\n",
        "import matplotlib.pyplot as plt\n",
        "%matplotlib inline\n",
        "\n",
        "fig,ax=plt.subplots(figsize=(5,5))\n",
        "plot_importance(xgb,ax=ax)"
      ],
      "metadata": {
        "colab": {
          "base_uri": "https://localhost:8080/",
          "height": 372
        },
        "id": "WoUgWJW3UY02",
        "outputId": "ed44da70-167d-4333-fb85-add593903fed"
      },
      "execution_count": 47,
      "outputs": [
        {
          "output_type": "execute_result",
          "data": {
            "text/plain": [
              "<matplotlib.axes._subplots.AxesSubplot at 0x7f8024b15290>"
            ]
          },
          "metadata": {},
          "execution_count": 47
        },
        {
          "output_type": "display_data",
          "data": {
            "image/png": "[encoded data removed]",
            "text/plain": [
              "<Figure size 360x360 with 1 Axes>"
            ]
          },
          "metadata": {
            "needs_background": "light"
          }
        }
      ]
    },
    {
      "cell_type": "code",
      "source": [
        ""
      ],
      "metadata": {
        "id": "d8A-TML5Xriy"
      },
      "execution_count": null,
      "outputs": []
    }
  ]
}